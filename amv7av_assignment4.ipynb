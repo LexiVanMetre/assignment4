{
  "cells": [
    {
      "cell_type": "markdown",
      "id": "e0c7b14a-e5aa-4abc-b48b-b8a9d20dacac",
      "metadata": {
        "id": "e0c7b14a-e5aa-4abc-b48b-b8a9d20dacac"
      },
      "source": [
        "# Assignment #4: Linear Models and Decision Trees\n",
        "## Foundations of Machine Learning\n",
        "## Do Q1 and one other question.\n",
        "### Advice: Reuse your code and code from lectures, package routine tasks into functions, make plans about how you'll carry out the analysis before jumping into writing code, and work as efficiently as possible"
      ]
    },
    {
      "cell_type": "code",
      "source": [
        "! git clone https://www.github.com/LexiVanMetre/assignment4"
      ],
      "metadata": {
        "id": "_ul-ASmvWFTh",
        "outputId": "68a5c85b-8bbf-43a0-e45c-d408d26ce489",
        "colab": {
          "base_uri": "https://localhost:8080/"
        }
      },
      "id": "_ul-ASmvWFTh",
      "execution_count": 2,
      "outputs": [
        {
          "output_type": "stream",
          "name": "stdout",
          "text": [
            "Cloning into 'assignment4'...\n",
            "warning: redirecting to https://github.com/LexiVanMetre/assignment4.git/\n",
            "remote: Enumerating objects: 11, done.\u001b[K\n",
            "remote: Counting objects: 100% (2/2), done.\u001b[K\n",
            "remote: Compressing objects: 100% (2/2), done.\u001b[K\n",
            "remote: Total 11 (delta 0), reused 0 (delta 0), pack-reused 9\u001b[K\n",
            "Receiving objects: 100% (11/11), 396.68 KiB | 3.64 MiB/s, done.\n"
          ]
        }
      ]
    },
    {
      "cell_type": "markdown",
      "id": "95f22300-0180-4ed2-be8f-ed56cf4cd36b",
      "metadata": {
        "id": "95f22300-0180-4ed2-be8f-ed56cf4cd36b"
      },
      "source": [
        "**Q1.** This question is a case study for linear models and decision trees. The data are about car prices. In particular, they include:\n",
        "\n",
        "  - `Price`, `Color`, `Seating_Capacity`\n",
        "  - `Body_Type`: crossover, hatchback, muv, sedan, suv\n",
        "  - `Make`, `Make_Year`: The brand of car and year produced\n",
        "  - `Mileage_Run`: The number of miles on the odometer\n",
        "  - `Fuel_Type`: Diesel or gasoline/petrol\n",
        "  - `Transmission`, `Transmission_Type`:  speeds and automatic/manual\n",
        "\n",
        "  1. Load `cars_hw.csv`. These data were really dirty, and I've already cleaned them a significant amount in terms of missing values and other issues, but some issues remain (e.g. outliers, badly scaled variables that require a log or arcsinh transformation). Clean the data however you think is most appropriate.\n",
        "  2. Summarize the `Price` variable and create a kernel density plot. Use `.groupby()` and `.describe()` to summarize prices by brand (`Make`). Make a grouped kernel density plot by `Make`. Which car brands are the most expensive? What do prices look like in general?\n",
        "  3. Split the data into an 80% training set and a 20% testing set.\n",
        "  4. Let's focus on linear models. Make a model where you regress price on the numeric variables alone; what is the $R^2$ and `RMSE` on the test set? Make a second model where, for the categorical variables, make a model comprised of one-hot encoded regressors/features alone, and regress price on those variables; what is the $R^2$ and `RMSE` on the test set? Which model performs better on the test set? Make a third model that combines all the regressors from the previous two; what is the $R^2$ and `RMSE` on the test set? Does the joint model perform better or worse, and by home much?\n",
        "  5. Use the `PolynomialFeatures` function from `sklearn` to expand the set of numerical variables you're using, along with the categorical variables. As you increase the degree of the expansion, how do the $R^2$ and `RMSE` change? At what point does $R^2$ go negative on the test set? For your best model with expanded features, what is the $R^2$ and `RMSE`? How does it compare to your best model from part 3?\n",
        "  6. For your best model so far, determine the predicted values for the test data and plot them against the true values. Do the predicted values and true values roughly line up along the diagonal, or not? Compute the residuals/errors for the test data and create a kernel density plot. Do the residuals look roughly bell-shaped around zero? Evaluate the strengths and weaknesses of your model.\n",
        "  7. Now, let's use a regression tree. Construct an appropriate matrix of regressors/features, and fit a tree to the data. Vary the maximum depth of the decision tree using the `max_depth` option (i.e. `tree.DecisionTreeRegressor(max_depth=D)`), and compute the $R^2$ and `RMSE` on the test set of a variety of depths. What depth tree gives the best results?\n",
        "  8. For your best tree, determine the predicted values for the test data, and plot them against the true values. Do the predicted values and true values line up along the diagonal, or not? Compute the residuals/errors for the test data and create a kernel density plot. Do the residuals look roughly bell-shaped around zero?\n",
        "  12. Which model --- linear model or classification and regression tree --- has better performance on the test set?"
      ]
    },
    {
      "cell_type": "code",
      "source": [
        "import pandas as pd\n",
        "import numpy as np\n",
        "import seaborn as sns\n",
        "import matplotlib.pyplot as plt\n",
        "from sklearn.preprocessing import PolynomialFeatures\n",
        "from sklearn.preprocessing import PowerTransformer\n",
        "from scipy import stats"
      ],
      "metadata": {
        "id": "X3InIA-oWO77"
      },
      "id": "X3InIA-oWO77",
      "execution_count": 59,
      "outputs": []
    },
    {
      "cell_type": "code",
      "source": [
        "carData = pd.read_csv('./assignment4/data/cars_hw.csv')\n",
        "carData.head()"
      ],
      "metadata": {
        "id": "rls5ouNVVr8a",
        "outputId": "0324ee1b-15c2-44a0-a8df-b1aea0af0fc3",
        "colab": {
          "base_uri": "https://localhost:8080/",
          "height": 244
        }
      },
      "id": "rls5ouNVVr8a",
      "execution_count": 60,
      "outputs": [
        {
          "output_type": "execute_result",
          "data": {
            "text/plain": [
              "   Unnamed: 0        Make  Make_Year   Color  Body_Type  Mileage_Run  \\\n",
              "0           1  Volkswagen       2017  silver      sedan        44611   \n",
              "1           2     Hyundai       2016     red  crossover        20305   \n",
              "2           3       Honda       2019   white        suv        29540   \n",
              "3           4     Renault       2017  bronze  hatchback        35680   \n",
              "4           5     Hyundai       2017  orange  hatchback        25126   \n",
              "\n",
              "  No_of_Owners  Seating_Capacity Fuel_Type Transmission Transmission_Type  \\\n",
              "0          1st                 5    diesel      7-Speed         Automatic   \n",
              "1          1st                 5    petrol      5-Speed            Manual   \n",
              "2          2nd                 5    petrol      5-Speed            Manual   \n",
              "3          1st                 5    petrol      5-Speed            Manual   \n",
              "4          1st                 5    petrol      5-Speed            Manual   \n",
              "\n",
              "    Price  \n",
              "0  657000  \n",
              "1  682000  \n",
              "2  793000  \n",
              "3  414000  \n",
              "4  515000  "
            ],
            "text/html": [
              "\n",
              "  <div id=\"df-e89475ce-8bdb-4e55-8f6a-6c669998b521\" class=\"colab-df-container\">\n",
              "    <div>\n",
              "<style scoped>\n",
              "    .dataframe tbody tr th:only-of-type {\n",
              "        vertical-align: middle;\n",
              "    }\n",
              "\n",
              "    .dataframe tbody tr th {\n",
              "        vertical-align: top;\n",
              "    }\n",
              "\n",
              "    .dataframe thead th {\n",
              "        text-align: right;\n",
              "    }\n",
              "</style>\n",
              "<table border=\"1\" class=\"dataframe\">\n",
              "  <thead>\n",
              "    <tr style=\"text-align: right;\">\n",
              "      <th></th>\n",
              "      <th>Unnamed: 0</th>\n",
              "      <th>Make</th>\n",
              "      <th>Make_Year</th>\n",
              "      <th>Color</th>\n",
              "      <th>Body_Type</th>\n",
              "      <th>Mileage_Run</th>\n",
              "      <th>No_of_Owners</th>\n",
              "      <th>Seating_Capacity</th>\n",
              "      <th>Fuel_Type</th>\n",
              "      <th>Transmission</th>\n",
              "      <th>Transmission_Type</th>\n",
              "      <th>Price</th>\n",
              "    </tr>\n",
              "  </thead>\n",
              "  <tbody>\n",
              "    <tr>\n",
              "      <th>0</th>\n",
              "      <td>1</td>\n",
              "      <td>Volkswagen</td>\n",
              "      <td>2017</td>\n",
              "      <td>silver</td>\n",
              "      <td>sedan</td>\n",
              "      <td>44611</td>\n",
              "      <td>1st</td>\n",
              "      <td>5</td>\n",
              "      <td>diesel</td>\n",
              "      <td>7-Speed</td>\n",
              "      <td>Automatic</td>\n",
              "      <td>657000</td>\n",
              "    </tr>\n",
              "    <tr>\n",
              "      <th>1</th>\n",
              "      <td>2</td>\n",
              "      <td>Hyundai</td>\n",
              "      <td>2016</td>\n",
              "      <td>red</td>\n",
              "      <td>crossover</td>\n",
              "      <td>20305</td>\n",
              "      <td>1st</td>\n",
              "      <td>5</td>\n",
              "      <td>petrol</td>\n",
              "      <td>5-Speed</td>\n",
              "      <td>Manual</td>\n",
              "      <td>682000</td>\n",
              "    </tr>\n",
              "    <tr>\n",
              "      <th>2</th>\n",
              "      <td>3</td>\n",
              "      <td>Honda</td>\n",
              "      <td>2019</td>\n",
              "      <td>white</td>\n",
              "      <td>suv</td>\n",
              "      <td>29540</td>\n",
              "      <td>2nd</td>\n",
              "      <td>5</td>\n",
              "      <td>petrol</td>\n",
              "      <td>5-Speed</td>\n",
              "      <td>Manual</td>\n",
              "      <td>793000</td>\n",
              "    </tr>\n",
              "    <tr>\n",
              "      <th>3</th>\n",
              "      <td>4</td>\n",
              "      <td>Renault</td>\n",
              "      <td>2017</td>\n",
              "      <td>bronze</td>\n",
              "      <td>hatchback</td>\n",
              "      <td>35680</td>\n",
              "      <td>1st</td>\n",
              "      <td>5</td>\n",
              "      <td>petrol</td>\n",
              "      <td>5-Speed</td>\n",
              "      <td>Manual</td>\n",
              "      <td>414000</td>\n",
              "    </tr>\n",
              "    <tr>\n",
              "      <th>4</th>\n",
              "      <td>5</td>\n",
              "      <td>Hyundai</td>\n",
              "      <td>2017</td>\n",
              "      <td>orange</td>\n",
              "      <td>hatchback</td>\n",
              "      <td>25126</td>\n",
              "      <td>1st</td>\n",
              "      <td>5</td>\n",
              "      <td>petrol</td>\n",
              "      <td>5-Speed</td>\n",
              "      <td>Manual</td>\n",
              "      <td>515000</td>\n",
              "    </tr>\n",
              "  </tbody>\n",
              "</table>\n",
              "</div>\n",
              "    <div class=\"colab-df-buttons\">\n",
              "\n",
              "  <div class=\"colab-df-container\">\n",
              "    <button class=\"colab-df-convert\" onclick=\"convertToInteractive('df-e89475ce-8bdb-4e55-8f6a-6c669998b521')\"\n",
              "            title=\"Convert this dataframe to an interactive table.\"\n",
              "            style=\"display:none;\">\n",
              "\n",
              "  <svg xmlns=\"http://www.w3.org/2000/svg\" height=\"24px\" viewBox=\"0 -960 960 960\">\n",
              "    <path d=\"M120-120v-720h720v720H120Zm60-500h600v-160H180v160Zm220 220h160v-160H400v160Zm0 220h160v-160H400v160ZM180-400h160v-160H180v160Zm440 0h160v-160H620v160ZM180-180h160v-160H180v160Zm440 0h160v-160H620v160Z\"/>\n",
              "  </svg>\n",
              "    </button>\n",
              "\n",
              "  <style>\n",
              "    .colab-df-container {\n",
              "      display:flex;\n",
              "      gap: 12px;\n",
              "    }\n",
              "\n",
              "    .colab-df-convert {\n",
              "      background-color: #E8F0FE;\n",
              "      border: none;\n",
              "      border-radius: 50%;\n",
              "      cursor: pointer;\n",
              "      display: none;\n",
              "      fill: #1967D2;\n",
              "      height: 32px;\n",
              "      padding: 0 0 0 0;\n",
              "      width: 32px;\n",
              "    }\n",
              "\n",
              "    .colab-df-convert:hover {\n",
              "      background-color: #E2EBFA;\n",
              "      box-shadow: 0px 1px 2px rgba(60, 64, 67, 0.3), 0px 1px 3px 1px rgba(60, 64, 67, 0.15);\n",
              "      fill: #174EA6;\n",
              "    }\n",
              "\n",
              "    .colab-df-buttons div {\n",
              "      margin-bottom: 4px;\n",
              "    }\n",
              "\n",
              "    [theme=dark] .colab-df-convert {\n",
              "      background-color: #3B4455;\n",
              "      fill: #D2E3FC;\n",
              "    }\n",
              "\n",
              "    [theme=dark] .colab-df-convert:hover {\n",
              "      background-color: #434B5C;\n",
              "      box-shadow: 0px 1px 3px 1px rgba(0, 0, 0, 0.15);\n",
              "      filter: drop-shadow(0px 1px 2px rgba(0, 0, 0, 0.3));\n",
              "      fill: #FFFFFF;\n",
              "    }\n",
              "  </style>\n",
              "\n",
              "    <script>\n",
              "      const buttonEl =\n",
              "        document.querySelector('#df-e89475ce-8bdb-4e55-8f6a-6c669998b521 button.colab-df-convert');\n",
              "      buttonEl.style.display =\n",
              "        google.colab.kernel.accessAllowed ? 'block' : 'none';\n",
              "\n",
              "      async function convertToInteractive(key) {\n",
              "        const element = document.querySelector('#df-e89475ce-8bdb-4e55-8f6a-6c669998b521');\n",
              "        const dataTable =\n",
              "          await google.colab.kernel.invokeFunction('convertToInteractive',\n",
              "                                                    [key], {});\n",
              "        if (!dataTable) return;\n",
              "\n",
              "        const docLinkHtml = 'Like what you see? Visit the ' +\n",
              "          '<a target=\"_blank\" href=https://colab.research.google.com/notebooks/data_table.ipynb>data table notebook</a>'\n",
              "          + ' to learn more about interactive tables.';\n",
              "        element.innerHTML = '';\n",
              "        dataTable['output_type'] = 'display_data';\n",
              "        await google.colab.output.renderOutput(dataTable, element);\n",
              "        const docLink = document.createElement('div');\n",
              "        docLink.innerHTML = docLinkHtml;\n",
              "        element.appendChild(docLink);\n",
              "      }\n",
              "    </script>\n",
              "  </div>\n",
              "\n",
              "\n",
              "<div id=\"df-8d8e9467-8de0-422a-9656-c3be64c28be4\">\n",
              "  <button class=\"colab-df-quickchart\" onclick=\"quickchart('df-8d8e9467-8de0-422a-9656-c3be64c28be4')\"\n",
              "            title=\"Suggest charts\"\n",
              "            style=\"display:none;\">\n",
              "\n",
              "<svg xmlns=\"http://www.w3.org/2000/svg\" height=\"24px\"viewBox=\"0 0 24 24\"\n",
              "     width=\"24px\">\n",
              "    <g>\n",
              "        <path d=\"M19 3H5c-1.1 0-2 .9-2 2v14c0 1.1.9 2 2 2h14c1.1 0 2-.9 2-2V5c0-1.1-.9-2-2-2zM9 17H7v-7h2v7zm4 0h-2V7h2v10zm4 0h-2v-4h2v4z\"/>\n",
              "    </g>\n",
              "</svg>\n",
              "  </button>\n",
              "\n",
              "<style>\n",
              "  .colab-df-quickchart {\n",
              "      --bg-color: #E8F0FE;\n",
              "      --fill-color: #1967D2;\n",
              "      --hover-bg-color: #E2EBFA;\n",
              "      --hover-fill-color: #174EA6;\n",
              "      --disabled-fill-color: #AAA;\n",
              "      --disabled-bg-color: #DDD;\n",
              "  }\n",
              "\n",
              "  [theme=dark] .colab-df-quickchart {\n",
              "      --bg-color: #3B4455;\n",
              "      --fill-color: #D2E3FC;\n",
              "      --hover-bg-color: #434B5C;\n",
              "      --hover-fill-color: #FFFFFF;\n",
              "      --disabled-bg-color: #3B4455;\n",
              "      --disabled-fill-color: #666;\n",
              "  }\n",
              "\n",
              "  .colab-df-quickchart {\n",
              "    background-color: var(--bg-color);\n",
              "    border: none;\n",
              "    border-radius: 50%;\n",
              "    cursor: pointer;\n",
              "    display: none;\n",
              "    fill: var(--fill-color);\n",
              "    height: 32px;\n",
              "    padding: 0;\n",
              "    width: 32px;\n",
              "  }\n",
              "\n",
              "  .colab-df-quickchart:hover {\n",
              "    background-color: var(--hover-bg-color);\n",
              "    box-shadow: 0 1px 2px rgba(60, 64, 67, 0.3), 0 1px 3px 1px rgba(60, 64, 67, 0.15);\n",
              "    fill: var(--button-hover-fill-color);\n",
              "  }\n",
              "\n",
              "  .colab-df-quickchart-complete:disabled,\n",
              "  .colab-df-quickchart-complete:disabled:hover {\n",
              "    background-color: var(--disabled-bg-color);\n",
              "    fill: var(--disabled-fill-color);\n",
              "    box-shadow: none;\n",
              "  }\n",
              "\n",
              "  .colab-df-spinner {\n",
              "    border: 2px solid var(--fill-color);\n",
              "    border-color: transparent;\n",
              "    border-bottom-color: var(--fill-color);\n",
              "    animation:\n",
              "      spin 1s steps(1) infinite;\n",
              "  }\n",
              "\n",
              "  @keyframes spin {\n",
              "    0% {\n",
              "      border-color: transparent;\n",
              "      border-bottom-color: var(--fill-color);\n",
              "      border-left-color: var(--fill-color);\n",
              "    }\n",
              "    20% {\n",
              "      border-color: transparent;\n",
              "      border-left-color: var(--fill-color);\n",
              "      border-top-color: var(--fill-color);\n",
              "    }\n",
              "    30% {\n",
              "      border-color: transparent;\n",
              "      border-left-color: var(--fill-color);\n",
              "      border-top-color: var(--fill-color);\n",
              "      border-right-color: var(--fill-color);\n",
              "    }\n",
              "    40% {\n",
              "      border-color: transparent;\n",
              "      border-right-color: var(--fill-color);\n",
              "      border-top-color: var(--fill-color);\n",
              "    }\n",
              "    60% {\n",
              "      border-color: transparent;\n",
              "      border-right-color: var(--fill-color);\n",
              "    }\n",
              "    80% {\n",
              "      border-color: transparent;\n",
              "      border-right-color: var(--fill-color);\n",
              "      border-bottom-color: var(--fill-color);\n",
              "    }\n",
              "    90% {\n",
              "      border-color: transparent;\n",
              "      border-bottom-color: var(--fill-color);\n",
              "    }\n",
              "  }\n",
              "</style>\n",
              "\n",
              "  <script>\n",
              "    async function quickchart(key) {\n",
              "      const quickchartButtonEl =\n",
              "        document.querySelector('#' + key + ' button');\n",
              "      quickchartButtonEl.disabled = true;  // To prevent multiple clicks.\n",
              "      quickchartButtonEl.classList.add('colab-df-spinner');\n",
              "      try {\n",
              "        const charts = await google.colab.kernel.invokeFunction(\n",
              "            'suggestCharts', [key], {});\n",
              "      } catch (error) {\n",
              "        console.error('Error during call to suggestCharts:', error);\n",
              "      }\n",
              "      quickchartButtonEl.classList.remove('colab-df-spinner');\n",
              "      quickchartButtonEl.classList.add('colab-df-quickchart-complete');\n",
              "    }\n",
              "    (() => {\n",
              "      let quickchartButtonEl =\n",
              "        document.querySelector('#df-8d8e9467-8de0-422a-9656-c3be64c28be4 button');\n",
              "      quickchartButtonEl.style.display =\n",
              "        google.colab.kernel.accessAllowed ? 'block' : 'none';\n",
              "    })();\n",
              "  </script>\n",
              "</div>\n",
              "    </div>\n",
              "  </div>\n"
            ]
          },
          "metadata": {},
          "execution_count": 60
        }
      ]
    },
    {
      "cell_type": "code",
      "source": [
        "print(carData.dtypes)"
      ],
      "metadata": {
        "id": "UrMQQpzJa9E7",
        "outputId": "309dcf85-057c-41dd-d324-283418dbd5d2",
        "colab": {
          "base_uri": "https://localhost:8080/"
        }
      },
      "id": "UrMQQpzJa9E7",
      "execution_count": 61,
      "outputs": [
        {
          "output_type": "stream",
          "name": "stdout",
          "text": [
            "Unnamed: 0            int64\n",
            "Make                 object\n",
            "Make_Year             int64\n",
            "Color                object\n",
            "Body_Type            object\n",
            "Mileage_Run           int64\n",
            "No_of_Owners         object\n",
            "Seating_Capacity      int64\n",
            "Fuel_Type            object\n",
            "Transmission         object\n",
            "Transmission_Type    object\n",
            "Price                 int64\n",
            "dtype: object\n"
          ]
        }
      ]
    },
    {
      "cell_type": "markdown",
      "source": [
        "We need to convert make year to a Date or factor type."
      ],
      "metadata": {
        "id": "PfoiE2e6bNrJ"
      },
      "id": "PfoiE2e6bNrJ"
    },
    {
      "cell_type": "code",
      "source": [
        "carData['Price'].hist(bins=20) # prices are slightly skewed to the right"
      ],
      "metadata": {
        "id": "sP15wmYAbFK4",
        "outputId": "65b266c0-e966-47d7-ac0f-c45496d48636",
        "colab": {
          "base_uri": "https://localhost:8080/",
          "height": 466
        }
      },
      "id": "sP15wmYAbFK4",
      "execution_count": 21,
      "outputs": [
        {
          "output_type": "execute_result",
          "data": {
            "text/plain": [
              "<Axes: >"
            ]
          },
          "metadata": {},
          "execution_count": 21
        },
        {
          "output_type": "display_data",
          "data": {
            "text/plain": [
              "<Figure size 640x480 with 1 Axes>"
            ],
            "image/png": "[encoded data removed]"
          },
          "metadata": {}
        }
      ]
    },
    {
      "cell_type": "code",
      "source": [
        "carData['Make_Year'] = carData['Make_Year'].astype('category')\n",
        "\n",
        "carData = carData.drop(carData.columns[0], axis = 1)\n",
        "\n",
        "## removing characters in the No_of_Owners column:\n",
        "carData['No_of_Owners'] = carData['No_of_Owners'].str.replace(r'\\D', '', regex=True).astype(int)"
      ],
      "metadata": {
        "id": "trd5PfX_beQ2"
      },
      "id": "trd5PfX_beQ2",
      "execution_count": 62,
      "outputs": []
    },
    {
      "cell_type": "code",
      "source": [
        "carData.head()"
      ],
      "metadata": {
        "id": "yr9R4FqadHTO",
        "outputId": "2025839c-1845-420c-d88d-4f52ded10b2f",
        "colab": {
          "base_uri": "https://localhost:8080/",
          "height": 226
        }
      },
      "id": "yr9R4FqadHTO",
      "execution_count": 63,
      "outputs": [
        {
          "output_type": "execute_result",
          "data": {
            "text/plain": [
              "         Make Make_Year   Color  Body_Type  Mileage_Run  No_of_Owners  \\\n",
              "0  Volkswagen      2017  silver      sedan        44611             1   \n",
              "1     Hyundai      2016     red  crossover        20305             1   \n",
              "2       Honda      2019   white        suv        29540             2   \n",
              "3     Renault      2017  bronze  hatchback        35680             1   \n",
              "4     Hyundai      2017  orange  hatchback        25126             1   \n",
              "\n",
              "   Seating_Capacity Fuel_Type Transmission Transmission_Type   Price  \n",
              "0                 5    diesel      7-Speed         Automatic  657000  \n",
              "1                 5    petrol      5-Speed            Manual  682000  \n",
              "2                 5    petrol      5-Speed            Manual  793000  \n",
              "3                 5    petrol      5-Speed            Manual  414000  \n",
              "4                 5    petrol      5-Speed            Manual  515000  "
            ],
            "text/html": [
              "\n",
              "  <div id=\"df-12cb52fc-02d2-4821-a6d8-e20860af819c\" class=\"colab-df-container\">\n",
              "    <div>\n",
              "<style scoped>\n",
              "    .dataframe tbody tr th:only-of-type {\n",
              "        vertical-align: middle;\n",
              "    }\n",
              "\n",
              "    .dataframe tbody tr th {\n",
              "        vertical-align: top;\n",
              "    }\n",
              "\n",
              "    .dataframe thead th {\n",
              "        text-align: right;\n",
              "    }\n",
              "</style>\n",
              "<table border=\"1\" class=\"dataframe\">\n",
              "  <thead>\n",
              "    <tr style=\"text-align: right;\">\n",
              "      <th></th>\n",
              "      <th>Make</th>\n",
              "      <th>Make_Year</th>\n",
              "      <th>Color</th>\n",
              "      <th>Body_Type</th>\n",
              "      <th>Mileage_Run</th>\n",
              "      <th>No_of_Owners</th>\n",
              "      <th>Seating_Capacity</th>\n",
              "      <th>Fuel_Type</th>\n",
              "      <th>Transmission</th>\n",
              "      <th>Transmission_Type</th>\n",
              "      <th>Price</th>\n",
              "    </tr>\n",
              "  </thead>\n",
              "  <tbody>\n",
              "    <tr>\n",
              "      <th>0</th>\n",
              "      <td>Volkswagen</td>\n",
              "      <td>2017</td>\n",
              "      <td>silver</td>\n",
              "      <td>sedan</td>\n",
              "      <td>44611</td>\n",
              "      <td>1</td>\n",
              "      <td>5</td>\n",
              "      <td>diesel</td>\n",
              "      <td>7-Speed</td>\n",
              "      <td>Automatic</td>\n",
              "      <td>657000</td>\n",
              "    </tr>\n",
              "    <tr>\n",
              "      <th>1</th>\n",
              "      <td>Hyundai</td>\n",
              "      <td>2016</td>\n",
              "      <td>red</td>\n",
              "      <td>crossover</td>\n",
              "      <td>20305</td>\n",
              "      <td>1</td>\n",
              "      <td>5</td>\n",
              "      <td>petrol</td>\n",
              "      <td>5-Speed</td>\n",
              "      <td>Manual</td>\n",
              "      <td>682000</td>\n",
              "    </tr>\n",
              "    <tr>\n",
              "      <th>2</th>\n",
              "      <td>Honda</td>\n",
              "      <td>2019</td>\n",
              "      <td>white</td>\n",
              "      <td>suv</td>\n",
              "      <td>29540</td>\n",
              "      <td>2</td>\n",
              "      <td>5</td>\n",
              "      <td>petrol</td>\n",
              "      <td>5-Speed</td>\n",
              "      <td>Manual</td>\n",
              "      <td>793000</td>\n",
              "    </tr>\n",
              "    <tr>\n",
              "      <th>3</th>\n",
              "      <td>Renault</td>\n",
              "      <td>2017</td>\n",
              "      <td>bronze</td>\n",
              "      <td>hatchback</td>\n",
              "      <td>35680</td>\n",
              "      <td>1</td>\n",
              "      <td>5</td>\n",
              "      <td>petrol</td>\n",
              "      <td>5-Speed</td>\n",
              "      <td>Manual</td>\n",
              "      <td>414000</td>\n",
              "    </tr>\n",
              "    <tr>\n",
              "      <th>4</th>\n",
              "      <td>Hyundai</td>\n",
              "      <td>2017</td>\n",
              "      <td>orange</td>\n",
              "      <td>hatchback</td>\n",
              "      <td>25126</td>\n",
              "      <td>1</td>\n",
              "      <td>5</td>\n",
              "      <td>petrol</td>\n",
              "      <td>5-Speed</td>\n",
              "      <td>Manual</td>\n",
              "      <td>515000</td>\n",
              "    </tr>\n",
              "  </tbody>\n",
              "</table>\n",
              "</div>\n",
              "    <div class=\"colab-df-buttons\">\n",
              "\n",
              "  <div class=\"colab-df-container\">\n",
              "    <button class=\"colab-df-convert\" onclick=\"convertToInteractive('df-12cb52fc-02d2-4821-a6d8-e20860af819c')\"\n",
              "            title=\"Convert this dataframe to an interactive table.\"\n",
              "            style=\"display:none;\">\n",
              "\n",
              "  <svg xmlns=\"http://www.w3.org/2000/svg\" height=\"24px\" viewBox=\"0 -960 960 960\">\n",
              "    <path d=\"M120-120v-720h720v720H120Zm60-500h600v-160H180v160Zm220 220h160v-160H400v160Zm0 220h160v-160H400v160ZM180-400h160v-160H180v160Zm440 0h160v-160H620v160ZM180-180h160v-160H180v160Zm440 0h160v-160H620v160Z\"/>\n",
              "  </svg>\n",
              "    </button>\n",
              "\n",
              "  <style>\n",
              "    .colab-df-container {\n",
              "      display:flex;\n",
              "      gap: 12px;\n",
              "    }\n",
              "\n",
              "    .colab-df-convert {\n",
              "      background-color: #E8F0FE;\n",
              "      border: none;\n",
              "      border-radius: 50%;\n",
              "      cursor: pointer;\n",
              "      display: none;\n",
              "      fill: #1967D2;\n",
              "      height: 32px;\n",
              "      padding: 0 0 0 0;\n",
              "      width: 32px;\n",
              "    }\n",
              "\n",
              "    .colab-df-convert:hover {\n",
              "      background-color: #E2EBFA;\n",
              "      box-shadow: 0px 1px 2px rgba(60, 64, 67, 0.3), 0px 1px 3px 1px rgba(60, 64, 67, 0.15);\n",
              "      fill: #174EA6;\n",
              "    }\n",
              "\n",
              "    .colab-df-buttons div {\n",
              "      margin-bottom: 4px;\n",
              "    }\n",
              "\n",
              "    [theme=dark] .colab-df-convert {\n",
              "      background-color: #3B4455;\n",
              "      fill: #D2E3FC;\n",
              "    }\n",
              "\n",
              "    [theme=dark] .colab-df-convert:hover {\n",
              "      background-color: #434B5C;\n",
              "      box-shadow: 0px 1px 3px 1px rgba(0, 0, 0, 0.15);\n",
              "      filter: drop-shadow(0px 1px 2px rgba(0, 0, 0, 0.3));\n",
              "      fill: #FFFFFF;\n",
              "    }\n",
              "  </style>\n",
              "\n",
              "    <script>\n",
              "      const buttonEl =\n",
              "        document.querySelector('#df-12cb52fc-02d2-4821-a6d8-e20860af819c button.colab-df-convert');\n",
              "      buttonEl.style.display =\n",
              "        google.colab.kernel.accessAllowed ? 'block' : 'none';\n",
              "\n",
              "      async function convertToInteractive(key) {\n",
              "        const element = document.querySelector('#df-12cb52fc-02d2-4821-a6d8-e20860af819c');\n",
              "        const dataTable =\n",
              "          await google.colab.kernel.invokeFunction('convertToInteractive',\n",
              "                                                    [key], {});\n",
              "        if (!dataTable) return;\n",
              "\n",
              "        const docLinkHtml = 'Like what you see? Visit the ' +\n",
              "          '<a target=\"_blank\" href=https://colab.research.google.com/notebooks/data_table.ipynb>data table notebook</a>'\n",
              "          + ' to learn more about interactive tables.';\n",
              "        element.innerHTML = '';\n",
              "        dataTable['output_type'] = 'display_data';\n",
              "        await google.colab.output.renderOutput(dataTable, element);\n",
              "        const docLink = document.createElement('div');\n",
              "        docLink.innerHTML = docLinkHtml;\n",
              "        element.appendChild(docLink);\n",
              "      }\n",
              "    </script>\n",
              "  </div>\n",
              "\n",
              "\n",
              "<div id=\"df-8e198977-6fbd-4890-b440-2bdff4554d76\">\n",
              "  <button class=\"colab-df-quickchart\" onclick=\"quickchart('df-8e198977-6fbd-4890-b440-2bdff4554d76')\"\n",
              "            title=\"Suggest charts\"\n",
              "            style=\"display:none;\">\n",
              "\n",
              "<svg xmlns=\"http://www.w3.org/2000/svg\" height=\"24px\"viewBox=\"0 0 24 24\"\n",
              "     width=\"24px\">\n",
              "    <g>\n",
              "        <path d=\"M19 3H5c-1.1 0-2 .9-2 2v14c0 1.1.9 2 2 2h14c1.1 0 2-.9 2-2V5c0-1.1-.9-2-2-2zM9 17H7v-7h2v7zm4 0h-2V7h2v10zm4 0h-2v-4h2v4z\"/>\n",
              "    </g>\n",
              "</svg>\n",
              "  </button>\n",
              "\n",
              "<style>\n",
              "  .colab-df-quickchart {\n",
              "      --bg-color: #E8F0FE;\n",
              "      --fill-color: #1967D2;\n",
              "      --hover-bg-color: #E2EBFA;\n",
              "      --hover-fill-color: #174EA6;\n",
              "      --disabled-fill-color: #AAA;\n",
              "      --disabled-bg-color: #DDD;\n",
              "  }\n",
              "\n",
              "  [theme=dark] .colab-df-quickchart {\n",
              "      --bg-color: #3B4455;\n",
              "      --fill-color: #D2E3FC;\n",
              "      --hover-bg-color: #434B5C;\n",
              "      --hover-fill-color: #FFFFFF;\n",
              "      --disabled-bg-color: #3B4455;\n",
              "      --disabled-fill-color: #666;\n",
              "  }\n",
              "\n",
              "  .colab-df-quickchart {\n",
              "    background-color: var(--bg-color);\n",
              "    border: none;\n",
              "    border-radius: 50%;\n",
              "    cursor: pointer;\n",
              "    display: none;\n",
              "    fill: var(--fill-color);\n",
              "    height: 32px;\n",
              "    padding: 0;\n",
              "    width: 32px;\n",
              "  }\n",
              "\n",
              "  .colab-df-quickchart:hover {\n",
              "    background-color: var(--hover-bg-color);\n",
              "    box-shadow: 0 1px 2px rgba(60, 64, 67, 0.3), 0 1px 3px 1px rgba(60, 64, 67, 0.15);\n",
              "    fill: var(--button-hover-fill-color);\n",
              "  }\n",
              "\n",
              "  .colab-df-quickchart-complete:disabled,\n",
              "  .colab-df-quickchart-complete:disabled:hover {\n",
              "    background-color: var(--disabled-bg-color);\n",
              "    fill: var(--disabled-fill-color);\n",
              "    box-shadow: none;\n",
              "  }\n",
              "\n",
              "  .colab-df-spinner {\n",
              "    border: 2px solid var(--fill-color);\n",
              "    border-color: transparent;\n",
              "    border-bottom-color: var(--fill-color);\n",
              "    animation:\n",
              "      spin 1s steps(1) infinite;\n",
              "  }\n",
              "\n",
              "  @keyframes spin {\n",
              "    0% {\n",
              "      border-color: transparent;\n",
              "      border-bottom-color: var(--fill-color);\n",
              "      border-left-color: var(--fill-color);\n",
              "    }\n",
              "    20% {\n",
              "      border-color: transparent;\n",
              "      border-left-color: var(--fill-color);\n",
              "      border-top-color: var(--fill-color);\n",
              "    }\n",
              "    30% {\n",
              "      border-color: transparent;\n",
              "      border-left-color: var(--fill-color);\n",
              "      border-top-color: var(--fill-color);\n",
              "      border-right-color: var(--fill-color);\n",
              "    }\n",
              "    40% {\n",
              "      border-color: transparent;\n",
              "      border-right-color: var(--fill-color);\n",
              "      border-top-color: var(--fill-color);\n",
              "    }\n",
              "    60% {\n",
              "      border-color: transparent;\n",
              "      border-right-color: var(--fill-color);\n",
              "    }\n",
              "    80% {\n",
              "      border-color: transparent;\n",
              "      border-right-color: var(--fill-color);\n",
              "      border-bottom-color: var(--fill-color);\n",
              "    }\n",
              "    90% {\n",
              "      border-color: transparent;\n",
              "      border-bottom-color: var(--fill-color);\n",
              "    }\n",
              "  }\n",
              "</style>\n",
              "\n",
              "  <script>\n",
              "    async function quickchart(key) {\n",
              "      const quickchartButtonEl =\n",
              "        document.querySelector('#' + key + ' button');\n",
              "      quickchartButtonEl.disabled = true;  // To prevent multiple clicks.\n",
              "      quickchartButtonEl.classList.add('colab-df-spinner');\n",
              "      try {\n",
              "        const charts = await google.colab.kernel.invokeFunction(\n",
              "            'suggestCharts', [key], {});\n",
              "      } catch (error) {\n",
              "        console.error('Error during call to suggestCharts:', error);\n",
              "      }\n",
              "      quickchartButtonEl.classList.remove('colab-df-spinner');\n",
              "      quickchartButtonEl.classList.add('colab-df-quickchart-complete');\n",
              "    }\n",
              "    (() => {\n",
              "      let quickchartButtonEl =\n",
              "        document.querySelector('#df-8e198977-6fbd-4890-b440-2bdff4554d76 button');\n",
              "      quickchartButtonEl.style.display =\n",
              "        google.colab.kernel.accessAllowed ? 'block' : 'none';\n",
              "    })();\n",
              "  </script>\n",
              "</div>\n",
              "    </div>\n",
              "  </div>\n"
            ]
          },
          "metadata": {},
          "execution_count": 63
        }
      ]
    },
    {
      "cell_type": "code",
      "source": [
        "# checking the categorical variables to make sure that there are no misspellings in the group names that we need to fix:\n",
        "print(X['Make'].value_counts())\n",
        "print('----------------------------')\n",
        "\n",
        "print(X['Color'].value_counts())\n",
        "print('----------------------------')\n",
        "\n",
        "print(X['Body_Type'].value_counts())\n",
        "print('----------------------------')\n",
        "\n",
        "print(X['Fuel_Type'].value_counts())\n",
        "print('----------------------------')\n",
        "\n",
        "print(X['Transmission'].value_counts())\n",
        "print('----------------------------')\n",
        "\n",
        "print(X['Transmission_Type'].value_counts())\n",
        "print('----------------------------')"
      ],
      "metadata": {
        "id": "uJK3Ka4PhPR4",
        "outputId": "bdfadc08-45bf-411f-ef23-f5359c70d4c8",
        "colab": {
          "base_uri": "https://localhost:8080/"
        }
      },
      "id": "uJK3Ka4PhPR4",
      "execution_count": 79,
      "outputs": [
        {
          "output_type": "stream",
          "name": "stdout",
          "text": [
            "Hyundai          305\n",
            "Maruti Suzuki    293\n",
            "Honda             73\n",
            "Renault           68\n",
            "Ford              52\n",
            "Toyota            50\n",
            "Volkswagen        29\n",
            "Tata              19\n",
            "Mahindra          18\n",
            "MG Motors         15\n",
            "Kia                8\n",
            "Chevrolet          6\n",
            "Nissan             4\n",
            "Jeep               4\n",
            "Skoda              4\n",
            "Datsun             3\n",
            "Name: Make, dtype: int64\n",
            "----------------------------\n",
            "white     187\n",
            "red       178\n",
            "grey      163\n",
            "silver    132\n",
            "blue      128\n",
            "brown      70\n",
            "black      33\n",
            "orange     19\n",
            "bronze     12\n",
            "beige       9\n",
            "yellow      6\n",
            "purple      6\n",
            "golden      3\n",
            "maroon      3\n",
            "green       2\n",
            "Name: Color, dtype: int64\n",
            "----------------------------\n",
            "hatchback    484\n",
            "sedan        226\n",
            "suv          182\n",
            "muv           38\n",
            "crossover     21\n",
            "Name: Body_Type, dtype: int64\n",
            "----------------------------\n",
            "petrol        782\n",
            "diesel        167\n",
            "petrol+cng      2\n",
            "Name: Fuel_Type, dtype: int64\n",
            "----------------------------\n",
            "5-Speed    739\n",
            "6-Speed    155\n",
            "4-Speed     39\n",
            "7-Speed     15\n",
            "CVT          3\n",
            "Name: Transmission, dtype: int64\n",
            "----------------------------\n",
            "Manual       691\n",
            "Automatic    260\n",
            "Name: Transmission_Type, dtype: int64\n",
            "----------------------------\n"
          ]
        }
      ]
    },
    {
      "cell_type": "code",
      "source": [
        "carData = carData.drop(carData[carData['Fuel_Type'] == 'petrol+cng'].index)"
      ],
      "metadata": {
        "id": "oSa5luQ9hv0a"
      },
      "id": "oSa5luQ9hv0a",
      "execution_count": 96,
      "outputs": []
    },
    {
      "cell_type": "code",
      "source": [
        "def visualize_outliers(df, column_name):\n",
        "    plt.figure(figsize=(8, 6))\n",
        "    sns.boxplot(x=df[column_name])\n",
        "    plt.title(f'Box plot of {column_name}')\n",
        "    plt.show()\n",
        "\n",
        "def handle_outliers(df, column_name, threshold=3):\n",
        "    z_scores = stats.zscore(df[column_name])\n",
        "    outliers = (abs(z_scores) > threshold)\n",
        "    df_cleaned = df[~outliers]\n",
        "    return df_cleaned\n",
        "\n",
        "def scale_variable(df, column_name):\n",
        "    df[column_name] = np.log1p(df[column_name])\n",
        "    return df"
      ],
      "metadata": {
        "id": "XB1J68Z_Ylsi"
      },
      "id": "XB1J68Z_Ylsi",
      "execution_count": 97,
      "outputs": []
    },
    {
      "cell_type": "code",
      "source": [
        "# Visualizing outliers\n",
        "columns_to_visualize = ['Mileage_Run', 'Price']\n",
        "\n",
        "for column in columns_to_visualize:\n",
        "    visualize_outliers(carData, column)"
      ],
      "metadata": {
        "id": "iL5EuUKWYQUW",
        "outputId": "32353a3f-a095-417e-d413-34869b26a9de",
        "colab": {
          "base_uri": "https://localhost:8080/",
          "height": 1000
        }
      },
      "id": "iL5EuUKWYQUW",
      "execution_count": 98,
      "outputs": [
        {
          "output_type": "display_data",
          "data": {
            "text/plain": [
              "<Figure size 800x600 with 1 Axes>"
            ],
            "image/png": "[encoded data removed]"
          },
          "metadata": {}
        },
        {
          "output_type": "display_data",
          "data": {
            "text/plain": [
              "<Figure size 800x600 with 1 Axes>"
            ],
            "image/png": "[encoded data removed]"
          },
          "metadata": {}
        }
      ]
    },
    {
      "cell_type": "code",
      "source": [
        "# Handling outliers\n",
        "for column in columns_to_visualize:\n",
        "    carData = handle_outliers(carData, column)"
      ],
      "metadata": {
        "id": "UTvZFszNYuTn"
      },
      "id": "UTvZFszNYuTn",
      "execution_count": 99,
      "outputs": []
    },
    {
      "cell_type": "code",
      "source": [
        "# Transforming variables\n",
        "columns_to_transform = ['Mileage_Run', 'Price']\n",
        "\n",
        "for column in columns_to_transform:\n",
        "    carData = scale_variable(carData, column)"
      ],
      "metadata": {
        "id": "PGi7giYkXZua"
      },
      "id": "PGi7giYkXZua",
      "execution_count": 100,
      "outputs": []
    },
    {
      "cell_type": "markdown",
      "source": [
        "**1.2**\n",
        "\n",
        "Summarize the Price variable and create a kernel density plot. Use .groupby() and .describe() to summarize prices by brand (Make). Make a grouped kernel density plot by Make. Which car brands are the most expensive? What do prices look like in general?"
      ],
      "metadata": {
        "id": "smBiMw2ykhiZ"
      },
      "id": "smBiMw2ykhiZ"
    },
    {
      "cell_type": "code",
      "source": [
        "# Summarize Price variable\n",
        "price_summary = carData['Price'].describe()\n",
        "\n",
        "# Print the summary\n",
        "print(price_summary)\n",
        "\n",
        "# Group by Make and describe prices\n",
        "grouped_prices = carData.groupby('Make')['Price'].describe()\n",
        "\n",
        "# Print the grouped summary\n",
        "print(grouped_prices)\n",
        "\n",
        "# Create a grouped kernel density plot\n",
        "plt.figure(figsize=(12, 8))\n",
        "sns.kdeplot(data=carData, x='Price', hue='Make', fill=True, common_norm=False)\n",
        "plt.title('Grouped Kernel Density Plot by Make')\n",
        "plt.xlabel('Price')\n",
        "plt.show()"
      ],
      "metadata": {
        "id": "G6qpJMVIaem2",
        "outputId": "5e37e939-1ec2-4ec9-d915-16f67ba2c5fd",
        "colab": {
          "base_uri": "https://localhost:8080/",
          "height": 1000
        }
      },
      "id": "G6qpJMVIaem2",
      "execution_count": 101,
      "outputs": [
        {
          "output_type": "stream",
          "name": "stdout",
          "text": [
            "count    943.000000\n",
            "mean       2.665602\n",
            "std        0.029214\n",
            "min        2.575981\n",
            "25%        2.643369\n",
            "50%        2.667017\n",
            "75%        2.685442\n",
            "max        2.735512\n",
            "Name: Price, dtype: float64\n",
            "               count      mean       std       min       25%       50%  \\\n",
            "Make                                                                     \n",
            "Chevrolet        6.0  2.632829  0.034170  2.602320  2.607722  2.621203   \n",
            "Datsun           3.0  2.608305  0.002675  2.605572  2.606998  2.608424   \n",
            "Ford            52.0  2.671853  0.014709  2.608424  2.664543  2.672043   \n",
            "Honda           73.0  2.676384  0.023247  2.614728  2.658335  2.679201   \n",
            "Hyundai        304.0  2.664630  0.027815  2.596835  2.645564  2.664871   \n",
            "Jeep             4.0  2.722368  0.006920  2.712716  2.720185  2.723940   \n",
            "Kia              8.0  2.727330  0.005041  2.716653  2.726037  2.728056   \n",
            "MG Motors       15.0  2.732775  0.002763  2.726454  2.731036  2.733490   \n",
            "Mahindra        18.0  2.701237  0.010738  2.680155  2.698122  2.701742   \n",
            "Maruti Suzuki  288.0  2.654245  0.026305  2.593449  2.633608  2.651544   \n",
            "Nissan           4.0  2.683565  0.027124  2.644121  2.676576  2.693844   \n",
            "Renault         68.0  2.663546  0.023159  2.607658  2.644121  2.665518   \n",
            "Skoda            4.0  2.661721  0.034864  2.638014  2.641574  2.647847   \n",
            "Tata            17.0  2.675629  0.040611  2.575981  2.663548  2.682936   \n",
            "Toyota          50.0  2.676290  0.025019  2.625816  2.651217  2.688083   \n",
            "Volkswagen      29.0  2.659793  0.014292  2.632192  2.653455  2.661398   \n",
            "\n",
            "                    75%       max  \n",
            "Make                               \n",
            "Chevrolet      2.651119  2.687931  \n",
            "Datsun         2.609671  2.610918  \n",
            "Ford           2.679375  2.699979  \n",
            "Honda          2.689661  2.724274  \n",
            "Hyundai        2.683714  2.732453  \n",
            "Jeep           2.726124  2.728877  \n",
            "Kia            2.731084  2.732416  \n",
            "MG Motors      2.735370  2.735512  \n",
            "Mahindra       2.705463  2.721122  \n",
            "Maruti Suzuki  2.677495  2.705815  \n",
            "Nissan         2.700833  2.702452  \n",
            "Renault        2.680584  2.705873  \n",
            "Skoda          2.667994  2.713177  \n",
            "Tata           2.692420  2.730826  \n",
            "Toyota         2.697207  2.701598  \n",
            "Volkswagen     2.671207  2.679636  \n"
          ]
        },
        {
          "output_type": "display_data",
          "data": {
            "text/plain": [
              "<Figure size 1200x800 with 1 Axes>"
            ],
            "image/png": "[encoded data removed]"
          },
          "metadata": {}
        }
      ]
    },
    {
      "cell_type": "markdown",
      "source": [
        "*Which car brands are the most expensive? What do prices look like in general?*\n",
        "\n",
        "It appears that Honda, Hyundai, Jeep, Kia, and Mahindra have the highest prices of cars. Prices tend to range from 12.14 to 14.19. The mean is 13.352111."
      ],
      "metadata": {
        "id": "EY-IuYirapFY"
      },
      "id": "EY-IuYirapFY"
    },
    {
      "cell_type": "markdown",
      "source": [
        "**1.3**\n",
        "\n",
        "Split the data into an 80% training set and a 20% testing set."
      ],
      "metadata": {
        "id": "kzu_bBDzk3u5"
      },
      "id": "kzu_bBDzk3u5"
    },
    {
      "cell_type": "code",
      "source": [
        "from sklearn.model_selection import train_test_split\n",
        "\n",
        "# Define the features (X) and the target variable (y)\n",
        "X = carData.drop('Price', axis=1)  # Assuming 'Price' is the target variable\n",
        "y = carData['Price']\n",
        "\n",
        "# Split the data into an 80% training set and a 20% testing set\n",
        "X_train, X_test, y_train, y_test = train_test_split(X, y, test_size=0.2, random_state=42)\n",
        "\n",
        "# Check the shape of the resulting sets\n",
        "print(\"Training set shape:\", X_train.shape, y_train.shape)\n",
        "print(\"Testing set shape:\", X_test.shape, y_test.shape)\n",
        "\n",
        "# Sum of Squared and Number of Tests\n",
        "\n",
        "TSS = np.sum((y_test - y_train.mean()) ** 2)\n",
        "No_test = len(y_test)"
      ],
      "metadata": {
        "id": "O3sG2A0_cczp",
        "outputId": "02abc488-b5f1-4ebb-cceb-d7ab4bcce4f7",
        "colab": {
          "base_uri": "https://localhost:8080/"
        }
      },
      "id": "O3sG2A0_cczp",
      "execution_count": 138,
      "outputs": [
        {
          "output_type": "stream",
          "name": "stdout",
          "text": [
            "Training set shape: (754, 10) (754,)\n",
            "Testing set shape: (189, 10) (189,)\n"
          ]
        }
      ]
    },
    {
      "cell_type": "code",
      "source": [
        "X_train.head()"
      ],
      "metadata": {
        "id": "Vh6yY8f-c0Xx",
        "outputId": "7d11121b-14bb-4889-ad15-7da4cb0e0e14",
        "colab": {
          "base_uri": "https://localhost:8080/",
          "height": 226
        }
      },
      "id": "Vh6yY8f-c0Xx",
      "execution_count": 103,
      "outputs": [
        {
          "output_type": "execute_result",
          "data": {
            "text/plain": [
              "        Make Make_Year   Color  Body_Type  Mileage_Run  No_of_Owners  \\\n",
              "253    Honda      2017     red        suv     2.504198             1   \n",
              "88    Nissan      2021  silver        suv     2.303749             1   \n",
              "326  Hyundai      2014    grey  hatchback     2.440277             2   \n",
              "360     Ford      2019     red  hatchback     2.461934             1   \n",
              "480  Hyundai      2013  silver      sedan     2.513108             1   \n",
              "\n",
              "     Seating_Capacity Fuel_Type Transmission Transmission_Type  \n",
              "253                 5    petrol      5-Speed            Manual  \n",
              "88                  5    petrol      5-Speed            Manual  \n",
              "326                 5    petrol      4-Speed         Automatic  \n",
              "360                 5    diesel      5-Speed            Manual  \n",
              "480                 5    petrol      4-Speed         Automatic  "
            ],
            "text/html": [
              "\n",
              "  <div id=\"df-cb31b445-2890-49c7-bf75-a7349ec0d411\" class=\"colab-df-container\">\n",
              "    <div>\n",
              "<style scoped>\n",
              "    .dataframe tbody tr th:only-of-type {\n",
              "        vertical-align: middle;\n",
              "    }\n",
              "\n",
              "    .dataframe tbody tr th {\n",
              "        vertical-align: top;\n",
              "    }\n",
              "\n",
              "    .dataframe thead th {\n",
              "        text-align: right;\n",
              "    }\n",
              "</style>\n",
              "<table border=\"1\" class=\"dataframe\">\n",
              "  <thead>\n",
              "    <tr style=\"text-align: right;\">\n",
              "      <th></th>\n",
              "      <th>Make</th>\n",
              "      <th>Make_Year</th>\n",
              "      <th>Color</th>\n",
              "      <th>Body_Type</th>\n",
              "      <th>Mileage_Run</th>\n",
              "      <th>No_of_Owners</th>\n",
              "      <th>Seating_Capacity</th>\n",
              "      <th>Fuel_Type</th>\n",
              "      <th>Transmission</th>\n",
              "      <th>Transmission_Type</th>\n",
              "    </tr>\n",
              "  </thead>\n",
              "  <tbody>\n",
              "    <tr>\n",
              "      <th>253</th>\n",
              "      <td>Honda</td>\n",
              "      <td>2017</td>\n",
              "      <td>red</td>\n",
              "      <td>suv</td>\n",
              "      <td>2.504198</td>\n",
              "      <td>1</td>\n",
              "      <td>5</td>\n",
              "      <td>petrol</td>\n",
              "      <td>5-Speed</td>\n",
              "      <td>Manual</td>\n",
              "    </tr>\n",
              "    <tr>\n",
              "      <th>88</th>\n",
              "      <td>Nissan</td>\n",
              "      <td>2021</td>\n",
              "      <td>silver</td>\n",
              "      <td>suv</td>\n",
              "      <td>2.303749</td>\n",
              "      <td>1</td>\n",
              "      <td>5</td>\n",
              "      <td>petrol</td>\n",
              "      <td>5-Speed</td>\n",
              "      <td>Manual</td>\n",
              "    </tr>\n",
              "    <tr>\n",
              "      <th>326</th>\n",
              "      <td>Hyundai</td>\n",
              "      <td>2014</td>\n",
              "      <td>grey</td>\n",
              "      <td>hatchback</td>\n",
              "      <td>2.440277</td>\n",
              "      <td>2</td>\n",
              "      <td>5</td>\n",
              "      <td>petrol</td>\n",
              "      <td>4-Speed</td>\n",
              "      <td>Automatic</td>\n",
              "    </tr>\n",
              "    <tr>\n",
              "      <th>360</th>\n",
              "      <td>Ford</td>\n",
              "      <td>2019</td>\n",
              "      <td>red</td>\n",
              "      <td>hatchback</td>\n",
              "      <td>2.461934</td>\n",
              "      <td>1</td>\n",
              "      <td>5</td>\n",
              "      <td>diesel</td>\n",
              "      <td>5-Speed</td>\n",
              "      <td>Manual</td>\n",
              "    </tr>\n",
              "    <tr>\n",
              "      <th>480</th>\n",
              "      <td>Hyundai</td>\n",
              "      <td>2013</td>\n",
              "      <td>silver</td>\n",
              "      <td>sedan</td>\n",
              "      <td>2.513108</td>\n",
              "      <td>1</td>\n",
              "      <td>5</td>\n",
              "      <td>petrol</td>\n",
              "      <td>4-Speed</td>\n",
              "      <td>Automatic</td>\n",
              "    </tr>\n",
              "  </tbody>\n",
              "</table>\n",
              "</div>\n",
              "    <div class=\"colab-df-buttons\">\n",
              "\n",
              "  <div class=\"colab-df-container\">\n",
              "    <button class=\"colab-df-convert\" onclick=\"convertToInteractive('df-cb31b445-2890-49c7-bf75-a7349ec0d411')\"\n",
              "            title=\"Convert this dataframe to an interactive table.\"\n",
              "            style=\"display:none;\">\n",
              "\n",
              "  <svg xmlns=\"http://www.w3.org/2000/svg\" height=\"24px\" viewBox=\"0 -960 960 960\">\n",
              "    <path d=\"M120-120v-720h720v720H120Zm60-500h600v-160H180v160Zm220 220h160v-160H400v160Zm0 220h160v-160H400v160ZM180-400h160v-160H180v160Zm440 0h160v-160H620v160ZM180-180h160v-160H180v160Zm440 0h160v-160H620v160Z\"/>\n",
              "  </svg>\n",
              "    </button>\n",
              "\n",
              "  <style>\n",
              "    .colab-df-container {\n",
              "      display:flex;\n",
              "      gap: 12px;\n",
              "    }\n",
              "\n",
              "    .colab-df-convert {\n",
              "      background-color: #E8F0FE;\n",
              "      border: none;\n",
              "      border-radius: 50%;\n",
              "      cursor: pointer;\n",
              "      display: none;\n",
              "      fill: #1967D2;\n",
              "      height: 32px;\n",
              "      padding: 0 0 0 0;\n",
              "      width: 32px;\n",
              "    }\n",
              "\n",
              "    .colab-df-convert:hover {\n",
              "      background-color: #E2EBFA;\n",
              "      box-shadow: 0px 1px 2px rgba(60, 64, 67, 0.3), 0px 1px 3px 1px rgba(60, 64, 67, 0.15);\n",
              "      fill: #174EA6;\n",
              "    }\n",
              "\n",
              "    .colab-df-buttons div {\n",
              "      margin-bottom: 4px;\n",
              "    }\n",
              "\n",
              "    [theme=dark] .colab-df-convert {\n",
              "      background-color: #3B4455;\n",
              "      fill: #D2E3FC;\n",
              "    }\n",
              "\n",
              "    [theme=dark] .colab-df-convert:hover {\n",
              "      background-color: #434B5C;\n",
              "      box-shadow: 0px 1px 3px 1px rgba(0, 0, 0, 0.15);\n",
              "      filter: drop-shadow(0px 1px 2px rgba(0, 0, 0, 0.3));\n",
              "      fill: #FFFFFF;\n",
              "    }\n",
              "  </style>\n",
              "\n",
              "    <script>\n",
              "      const buttonEl =\n",
              "        document.querySelector('#df-cb31b445-2890-49c7-bf75-a7349ec0d411 button.colab-df-convert');\n",
              "      buttonEl.style.display =\n",
              "        google.colab.kernel.accessAllowed ? 'block' : 'none';\n",
              "\n",
              "      async function convertToInteractive(key) {\n",
              "        const element = document.querySelector('#df-cb31b445-2890-49c7-bf75-a7349ec0d411');\n",
              "        const dataTable =\n",
              "          await google.colab.kernel.invokeFunction('convertToInteractive',\n",
              "                                                    [key], {});\n",
              "        if (!dataTable) return;\n",
              "\n",
              "        const docLinkHtml = 'Like what you see? Visit the ' +\n",
              "          '<a target=\"_blank\" href=https://colab.research.google.com/notebooks/data_table.ipynb>data table notebook</a>'\n",
              "          + ' to learn more about interactive tables.';\n",
              "        element.innerHTML = '';\n",
              "        dataTable['output_type'] = 'display_data';\n",
              "        await google.colab.output.renderOutput(dataTable, element);\n",
              "        const docLink = document.createElement('div');\n",
              "        docLink.innerHTML = docLinkHtml;\n",
              "        element.appendChild(docLink);\n",
              "      }\n",
              "    </script>\n",
              "  </div>\n",
              "\n",
              "\n",
              "<div id=\"df-a37761b6-742f-4cdd-ba52-ea5f93caae87\">\n",
              "  <button class=\"colab-df-quickchart\" onclick=\"quickchart('df-a37761b6-742f-4cdd-ba52-ea5f93caae87')\"\n",
              "            title=\"Suggest charts\"\n",
              "            style=\"display:none;\">\n",
              "\n",
              "<svg xmlns=\"http://www.w3.org/2000/svg\" height=\"24px\"viewBox=\"0 0 24 24\"\n",
              "     width=\"24px\">\n",
              "    <g>\n",
              "        <path d=\"M19 3H5c-1.1 0-2 .9-2 2v14c0 1.1.9 2 2 2h14c1.1 0 2-.9 2-2V5c0-1.1-.9-2-2-2zM9 17H7v-7h2v7zm4 0h-2V7h2v10zm4 0h-2v-4h2v4z\"/>\n",
              "    </g>\n",
              "</svg>\n",
              "  </button>\n",
              "\n",
              "<style>\n",
              "  .colab-df-quickchart {\n",
              "      --bg-color: #E8F0FE;\n",
              "      --fill-color: #1967D2;\n",
              "      --hover-bg-color: #E2EBFA;\n",
              "      --hover-fill-color: #174EA6;\n",
              "      --disabled-fill-color: #AAA;\n",
              "      --disabled-bg-color: #DDD;\n",
              "  }\n",
              "\n",
              "  [theme=dark] .colab-df-quickchart {\n",
              "      --bg-color: #3B4455;\n",
              "      --fill-color: #D2E3FC;\n",
              "      --hover-bg-color: #434B5C;\n",
              "      --hover-fill-color: #FFFFFF;\n",
              "      --disabled-bg-color: #3B4455;\n",
              "      --disabled-fill-color: #666;\n",
              "  }\n",
              "\n",
              "  .colab-df-quickchart {\n",
              "    background-color: var(--bg-color);\n",
              "    border: none;\n",
              "    border-radius: 50%;\n",
              "    cursor: pointer;\n",
              "    display: none;\n",
              "    fill: var(--fill-color);\n",
              "    height: 32px;\n",
              "    padding: 0;\n",
              "    width: 32px;\n",
              "  }\n",
              "\n",
              "  .colab-df-quickchart:hover {\n",
              "    background-color: var(--hover-bg-color);\n",
              "    box-shadow: 0 1px 2px rgba(60, 64, 67, 0.3), 0 1px 3px 1px rgba(60, 64, 67, 0.15);\n",
              "    fill: var(--button-hover-fill-color);\n",
              "  }\n",
              "\n",
              "  .colab-df-quickchart-complete:disabled,\n",
              "  .colab-df-quickchart-complete:disabled:hover {\n",
              "    background-color: var(--disabled-bg-color);\n",
              "    fill: var(--disabled-fill-color);\n",
              "    box-shadow: none;\n",
              "  }\n",
              "\n",
              "  .colab-df-spinner {\n",
              "    border: 2px solid var(--fill-color);\n",
              "    border-color: transparent;\n",
              "    border-bottom-color: var(--fill-color);\n",
              "    animation:\n",
              "      spin 1s steps(1) infinite;\n",
              "  }\n",
              "\n",
              "  @keyframes spin {\n",
              "    0% {\n",
              "      border-color: transparent;\n",
              "      border-bottom-color: var(--fill-color);\n",
              "      border-left-color: var(--fill-color);\n",
              "    }\n",
              "    20% {\n",
              "      border-color: transparent;\n",
              "      border-left-color: var(--fill-color);\n",
              "      border-top-color: var(--fill-color);\n",
              "    }\n",
              "    30% {\n",
              "      border-color: transparent;\n",
              "      border-left-color: var(--fill-color);\n",
              "      border-top-color: var(--fill-color);\n",
              "      border-right-color: var(--fill-color);\n",
              "    }\n",
              "    40% {\n",
              "      border-color: transparent;\n",
              "      border-right-color: var(--fill-color);\n",
              "      border-top-color: var(--fill-color);\n",
              "    }\n",
              "    60% {\n",
              "      border-color: transparent;\n",
              "      border-right-color: var(--fill-color);\n",
              "    }\n",
              "    80% {\n",
              "      border-color: transparent;\n",
              "      border-right-color: var(--fill-color);\n",
              "      border-bottom-color: var(--fill-color);\n",
              "    }\n",
              "    90% {\n",
              "      border-color: transparent;\n",
              "      border-bottom-color: var(--fill-color);\n",
              "    }\n",
              "  }\n",
              "</style>\n",
              "\n",
              "  <script>\n",
              "    async function quickchart(key) {\n",
              "      const quickchartButtonEl =\n",
              "        document.querySelector('#' + key + ' button');\n",
              "      quickchartButtonEl.disabled = true;  // To prevent multiple clicks.\n",
              "      quickchartButtonEl.classList.add('colab-df-spinner');\n",
              "      try {\n",
              "        const charts = await google.colab.kernel.invokeFunction(\n",
              "            'suggestCharts', [key], {});\n",
              "      } catch (error) {\n",
              "        console.error('Error during call to suggestCharts:', error);\n",
              "      }\n",
              "      quickchartButtonEl.classList.remove('colab-df-spinner');\n",
              "      quickchartButtonEl.classList.add('colab-df-quickchart-complete');\n",
              "    }\n",
              "    (() => {\n",
              "      let quickchartButtonEl =\n",
              "        document.querySelector('#df-a37761b6-742f-4cdd-ba52-ea5f93caae87 button');\n",
              "      quickchartButtonEl.style.display =\n",
              "        google.colab.kernel.accessAllowed ? 'block' : 'none';\n",
              "    })();\n",
              "  </script>\n",
              "</div>\n",
              "    </div>\n",
              "  </div>\n"
            ]
          },
          "metadata": {},
          "execution_count": 103
        }
      ]
    },
    {
      "cell_type": "markdown",
      "source": [
        "**1.4**\n",
        "\n",
        "Let's focus on linear models. Make a model where you regress price on the numeric variables alone; what is the\n",
        " and RMSE on the test set? Make a second model where, for the categorical variables, make a model comprised of one-hot encoded regressors/features alone, and regress price on those variables; what is the\n",
        " and RMSE on the test set? Which model performs better on the test set? Make a third model that combines all the regressors from the previous two; what is the\n",
        " and RMSE on the test set? Does the joint model perform better or worse, and by home much?"
      ],
      "metadata": {
        "id": "58RqRNFEk9Vq"
      },
      "id": "58RqRNFEk9Vq"
    },
    {
      "cell_type": "code",
      "source": [
        "from sklearn.linear_model import LinearRegression # Import linear regression model\n",
        "from sklearn.preprocessing import PolynomialFeatures"
      ],
      "metadata": {
        "id": "mAZD98xScopi"
      },
      "id": "mAZD98xScopi",
      "execution_count": 104,
      "outputs": []
    },
    {
      "cell_type": "code",
      "source": [
        "# Linear Model with numeric variables\n",
        "numeric_vars = ['Seating_Capacity', 'Mileage_Run', 'No_of_Owners']\n",
        "X_train_numeric = X_train[numeric_vars]\n",
        "X_test_numeric = X_test[numeric_vars]"
      ],
      "metadata": {
        "id": "hwnGqnKGfaDQ"
      },
      "id": "hwnGqnKGfaDQ",
      "execution_count": 105,
      "outputs": []
    },
    {
      "cell_type": "code",
      "source": [
        "X_train_numeric.head()"
      ],
      "metadata": {
        "id": "LDCYYxC0dZs0",
        "outputId": "c6ca02bf-5d01-448d-ebca-d361af3889f4",
        "colab": {
          "base_uri": "https://localhost:8080/",
          "height": 206
        }
      },
      "id": "LDCYYxC0dZs0",
      "execution_count": 106,
      "outputs": [
        {
          "output_type": "execute_result",
          "data": {
            "text/plain": [
              "     Seating_Capacity  Mileage_Run  No_of_Owners\n",
              "253                 5     2.504198             1\n",
              "88                  5     2.303749             1\n",
              "326                 5     2.440277             2\n",
              "360                 5     2.461934             1\n",
              "480                 5     2.513108             1"
            ],
            "text/html": [
              "\n",
              "  <div id=\"df-031caff5-be71-4458-bfde-9220af8c75f9\" class=\"colab-df-container\">\n",
              "    <div>\n",
              "<style scoped>\n",
              "    .dataframe tbody tr th:only-of-type {\n",
              "        vertical-align: middle;\n",
              "    }\n",
              "\n",
              "    .dataframe tbody tr th {\n",
              "        vertical-align: top;\n",
              "    }\n",
              "\n",
              "    .dataframe thead th {\n",
              "        text-align: right;\n",
              "    }\n",
              "</style>\n",
              "<table border=\"1\" class=\"dataframe\">\n",
              "  <thead>\n",
              "    <tr style=\"text-align: right;\">\n",
              "      <th></th>\n",
              "      <th>Seating_Capacity</th>\n",
              "      <th>Mileage_Run</th>\n",
              "      <th>No_of_Owners</th>\n",
              "    </tr>\n",
              "  </thead>\n",
              "  <tbody>\n",
              "    <tr>\n",
              "      <th>253</th>\n",
              "      <td>5</td>\n",
              "      <td>2.504198</td>\n",
              "      <td>1</td>\n",
              "    </tr>\n",
              "    <tr>\n",
              "      <th>88</th>\n",
              "      <td>5</td>\n",
              "      <td>2.303749</td>\n",
              "      <td>1</td>\n",
              "    </tr>\n",
              "    <tr>\n",
              "      <th>326</th>\n",
              "      <td>5</td>\n",
              "      <td>2.440277</td>\n",
              "      <td>2</td>\n",
              "    </tr>\n",
              "    <tr>\n",
              "      <th>360</th>\n",
              "      <td>5</td>\n",
              "      <td>2.461934</td>\n",
              "      <td>1</td>\n",
              "    </tr>\n",
              "    <tr>\n",
              "      <th>480</th>\n",
              "      <td>5</td>\n",
              "      <td>2.513108</td>\n",
              "      <td>1</td>\n",
              "    </tr>\n",
              "  </tbody>\n",
              "</table>\n",
              "</div>\n",
              "    <div class=\"colab-df-buttons\">\n",
              "\n",
              "  <div class=\"colab-df-container\">\n",
              "    <button class=\"colab-df-convert\" onclick=\"convertToInteractive('df-031caff5-be71-4458-bfde-9220af8c75f9')\"\n",
              "            title=\"Convert this dataframe to an interactive table.\"\n",
              "            style=\"display:none;\">\n",
              "\n",
              "  <svg xmlns=\"http://www.w3.org/2000/svg\" height=\"24px\" viewBox=\"0 -960 960 960\">\n",
              "    <path d=\"M120-120v-720h720v720H120Zm60-500h600v-160H180v160Zm220 220h160v-160H400v160Zm0 220h160v-160H400v160ZM180-400h160v-160H180v160Zm440 0h160v-160H620v160ZM180-180h160v-160H180v160Zm440 0h160v-160H620v160Z\"/>\n",
              "  </svg>\n",
              "    </button>\n",
              "\n",
              "  <style>\n",
              "    .colab-df-container {\n",
              "      display:flex;\n",
              "      gap: 12px;\n",
              "    }\n",
              "\n",
              "    .colab-df-convert {\n",
              "      background-color: #E8F0FE;\n",
              "      border: none;\n",
              "      border-radius: 50%;\n",
              "      cursor: pointer;\n",
              "      display: none;\n",
              "      fill: #1967D2;\n",
              "      height: 32px;\n",
              "      padding: 0 0 0 0;\n",
              "      width: 32px;\n",
              "    }\n",
              "\n",
              "    .colab-df-convert:hover {\n",
              "      background-color: #E2EBFA;\n",
              "      box-shadow: 0px 1px 2px rgba(60, 64, 67, 0.3), 0px 1px 3px 1px rgba(60, 64, 67, 0.15);\n",
              "      fill: #174EA6;\n",
              "    }\n",
              "\n",
              "    .colab-df-buttons div {\n",
              "      margin-bottom: 4px;\n",
              "    }\n",
              "\n",
              "    [theme=dark] .colab-df-convert {\n",
              "      background-color: #3B4455;\n",
              "      fill: #D2E3FC;\n",
              "    }\n",
              "\n",
              "    [theme=dark] .colab-df-convert:hover {\n",
              "      background-color: #434B5C;\n",
              "      box-shadow: 0px 1px 3px 1px rgba(0, 0, 0, 0.15);\n",
              "      filter: drop-shadow(0px 1px 2px rgba(0, 0, 0, 0.3));\n",
              "      fill: #FFFFFF;\n",
              "    }\n",
              "  </style>\n",
              "\n",
              "    <script>\n",
              "      const buttonEl =\n",
              "        document.querySelector('#df-031caff5-be71-4458-bfde-9220af8c75f9 button.colab-df-convert');\n",
              "      buttonEl.style.display =\n",
              "        google.colab.kernel.accessAllowed ? 'block' : 'none';\n",
              "\n",
              "      async function convertToInteractive(key) {\n",
              "        const element = document.querySelector('#df-031caff5-be71-4458-bfde-9220af8c75f9');\n",
              "        const dataTable =\n",
              "          await google.colab.kernel.invokeFunction('convertToInteractive',\n",
              "                                                    [key], {});\n",
              "        if (!dataTable) return;\n",
              "\n",
              "        const docLinkHtml = 'Like what you see? Visit the ' +\n",
              "          '<a target=\"_blank\" href=https://colab.research.google.com/notebooks/data_table.ipynb>data table notebook</a>'\n",
              "          + ' to learn more about interactive tables.';\n",
              "        element.innerHTML = '';\n",
              "        dataTable['output_type'] = 'display_data';\n",
              "        await google.colab.output.renderOutput(dataTable, element);\n",
              "        const docLink = document.createElement('div');\n",
              "        docLink.innerHTML = docLinkHtml;\n",
              "        element.appendChild(docLink);\n",
              "      }\n",
              "    </script>\n",
              "  </div>\n",
              "\n",
              "\n",
              "<div id=\"df-4a9ad74b-2c01-49b5-b840-86761d38a302\">\n",
              "  <button class=\"colab-df-quickchart\" onclick=\"quickchart('df-4a9ad74b-2c01-49b5-b840-86761d38a302')\"\n",
              "            title=\"Suggest charts\"\n",
              "            style=\"display:none;\">\n",
              "\n",
              "<svg xmlns=\"http://www.w3.org/2000/svg\" height=\"24px\"viewBox=\"0 0 24 24\"\n",
              "     width=\"24px\">\n",
              "    <g>\n",
              "        <path d=\"M19 3H5c-1.1 0-2 .9-2 2v14c0 1.1.9 2 2 2h14c1.1 0 2-.9 2-2V5c0-1.1-.9-2-2-2zM9 17H7v-7h2v7zm4 0h-2V7h2v10zm4 0h-2v-4h2v4z\"/>\n",
              "    </g>\n",
              "</svg>\n",
              "  </button>\n",
              "\n",
              "<style>\n",
              "  .colab-df-quickchart {\n",
              "      --bg-color: #E8F0FE;\n",
              "      --fill-color: #1967D2;\n",
              "      --hover-bg-color: #E2EBFA;\n",
              "      --hover-fill-color: #174EA6;\n",
              "      --disabled-fill-color: #AAA;\n",
              "      --disabled-bg-color: #DDD;\n",
              "  }\n",
              "\n",
              "  [theme=dark] .colab-df-quickchart {\n",
              "      --bg-color: #3B4455;\n",
              "      --fill-color: #D2E3FC;\n",
              "      --hover-bg-color: #434B5C;\n",
              "      --hover-fill-color: #FFFFFF;\n",
              "      --disabled-bg-color: #3B4455;\n",
              "      --disabled-fill-color: #666;\n",
              "  }\n",
              "\n",
              "  .colab-df-quickchart {\n",
              "    background-color: var(--bg-color);\n",
              "    border: none;\n",
              "    border-radius: 50%;\n",
              "    cursor: pointer;\n",
              "    display: none;\n",
              "    fill: var(--fill-color);\n",
              "    height: 32px;\n",
              "    padding: 0;\n",
              "    width: 32px;\n",
              "  }\n",
              "\n",
              "  .colab-df-quickchart:hover {\n",
              "    background-color: var(--hover-bg-color);\n",
              "    box-shadow: 0 1px 2px rgba(60, 64, 67, 0.3), 0 1px 3px 1px rgba(60, 64, 67, 0.15);\n",
              "    fill: var(--button-hover-fill-color);\n",
              "  }\n",
              "\n",
              "  .colab-df-quickchart-complete:disabled,\n",
              "  .colab-df-quickchart-complete:disabled:hover {\n",
              "    background-color: var(--disabled-bg-color);\n",
              "    fill: var(--disabled-fill-color);\n",
              "    box-shadow: none;\n",
              "  }\n",
              "\n",
              "  .colab-df-spinner {\n",
              "    border: 2px solid var(--fill-color);\n",
              "    border-color: transparent;\n",
              "    border-bottom-color: var(--fill-color);\n",
              "    animation:\n",
              "      spin 1s steps(1) infinite;\n",
              "  }\n",
              "\n",
              "  @keyframes spin {\n",
              "    0% {\n",
              "      border-color: transparent;\n",
              "      border-bottom-color: var(--fill-color);\n",
              "      border-left-color: var(--fill-color);\n",
              "    }\n",
              "    20% {\n",
              "      border-color: transparent;\n",
              "      border-left-color: var(--fill-color);\n",
              "      border-top-color: var(--fill-color);\n",
              "    }\n",
              "    30% {\n",
              "      border-color: transparent;\n",
              "      border-left-color: var(--fill-color);\n",
              "      border-top-color: var(--fill-color);\n",
              "      border-right-color: var(--fill-color);\n",
              "    }\n",
              "    40% {\n",
              "      border-color: transparent;\n",
              "      border-right-color: var(--fill-color);\n",
              "      border-top-color: var(--fill-color);\n",
              "    }\n",
              "    60% {\n",
              "      border-color: transparent;\n",
              "      border-right-color: var(--fill-color);\n",
              "    }\n",
              "    80% {\n",
              "      border-color: transparent;\n",
              "      border-right-color: var(--fill-color);\n",
              "      border-bottom-color: var(--fill-color);\n",
              "    }\n",
              "    90% {\n",
              "      border-color: transparent;\n",
              "      border-bottom-color: var(--fill-color);\n",
              "    }\n",
              "  }\n",
              "</style>\n",
              "\n",
              "  <script>\n",
              "    async function quickchart(key) {\n",
              "      const quickchartButtonEl =\n",
              "        document.querySelector('#' + key + ' button');\n",
              "      quickchartButtonEl.disabled = true;  // To prevent multiple clicks.\n",
              "      quickchartButtonEl.classList.add('colab-df-spinner');\n",
              "      try {\n",
              "        const charts = await google.colab.kernel.invokeFunction(\n",
              "            'suggestCharts', [key], {});\n",
              "      } catch (error) {\n",
              "        console.error('Error during call to suggestCharts:', error);\n",
              "      }\n",
              "      quickchartButtonEl.classList.remove('colab-df-spinner');\n",
              "      quickchartButtonEl.classList.add('colab-df-quickchart-complete');\n",
              "    }\n",
              "    (() => {\n",
              "      let quickchartButtonEl =\n",
              "        document.querySelector('#df-4a9ad74b-2c01-49b5-b840-86761d38a302 button');\n",
              "      quickchartButtonEl.style.display =\n",
              "        google.colab.kernel.accessAllowed ? 'block' : 'none';\n",
              "    })();\n",
              "  </script>\n",
              "</div>\n",
              "    </div>\n",
              "  </div>\n"
            ]
          },
          "metadata": {},
          "execution_count": 106
        }
      ]
    },
    {
      "cell_type": "code",
      "source": [
        "def fun(x):\n",
        "  print(x, '\\n')"
      ],
      "metadata": {
        "id": "Q0TAuh4ZdgCD"
      },
      "id": "Q0TAuh4ZdgCD",
      "execution_count": 107,
      "outputs": []
    },
    {
      "cell_type": "code",
      "source": [
        "# Linear Fit of Numeric Values\n",
        "\n",
        "from sklearn.linear_model import LinearRegression\n",
        "\n",
        "linearFit = LinearRegression().fit(X_train_numeric, y_train)\n",
        "\n",
        "\n",
        "print(\"Intercept:\")\n",
        "fun(linearFit.intercept_) # Intercept\n",
        "print(\"Regression coefficient:\")\n",
        "fun(linearFit.coef_) # Regression coefficient\n",
        "print(\"R-squared mean:\")\n",
        "fun(linearFit.score(X_train_numeric, y_train)) # R squared measure"
      ],
      "metadata": {
        "id": "r6L7hgesdpCl",
        "outputId": "983923f2-7f3b-48ea-9a89-e7d0329d2054",
        "colab": {
          "base_uri": "https://localhost:8080/"
        }
      },
      "id": "r6L7hgesdpCl",
      "execution_count": 108,
      "outputs": [
        {
          "output_type": "stream",
          "name": "stdout",
          "text": [
            "Intercept:\n",
            "2.8367018462498024 \n",
            "\n",
            "Regression coefficient:\n",
            "[ 0.00819512 -0.08387331 -0.00794017] \n",
            "\n",
            "R-squared mean:\n",
            "0.06386212978226358 \n",
            "\n"
          ]
        }
      ]
    },
    {
      "cell_type": "markdown",
      "source": [
        "The R-Squared for the linear numeric model is very close to 0. This means this model is not a good linear fit."
      ],
      "metadata": {
        "id": "ASI7zk1jjyZt"
      },
      "id": "ASI7zk1jjyZt"
    },
    {
      "cell_type": "code",
      "source": [
        "# Predicted values for numerics:\n",
        "y_hat = linearFit.predict(X_test_numeric)\n",
        "residuals_lm = y_test - y_hat"
      ],
      "metadata": {
        "id": "2sODno-Gepi9"
      },
      "id": "2sODno-Gepi9",
      "execution_count": 109,
      "outputs": []
    },
    {
      "cell_type": "code",
      "source": [
        "from sklearn.metrics import r2_score\n",
        "from sklearn.metrics import mean_squared_error\n",
        "from sklearn.preprocessing import OneHotEncoder"
      ],
      "metadata": {
        "id": "5slDhPXlezIs"
      },
      "id": "5slDhPXlezIs",
      "execution_count": 110,
      "outputs": []
    },
    {
      "cell_type": "code",
      "source": [
        "# Categorical Variables with One-Hot Encoding Model\n",
        "categorical_vars = ['Make', 'Make_Year', 'Color', 'Body_Type', 'Fuel_Type', 'Transmission', 'Transmission_Type']\n",
        "X_train_categorical = X_train[categorical_vars]\n",
        "X_test_categorical = X_test[categorical_vars]\n",
        "\n",
        "encoder = OneHotEncoder(sparse=False, drop='first')\n",
        "Xtrain_encoded = encoder.fit_transform(X_train_categorical)\n",
        "Xtest_encoded = encoder.transform(X_test_categorical)"
      ],
      "metadata": {
        "id": "Aw7pDNq9gNy9",
        "outputId": "87afd8d1-5225-49e5-cba4-b3026e54a1d1",
        "colab": {
          "base_uri": "https://localhost:8080/"
        }
      },
      "id": "Aw7pDNq9gNy9",
      "execution_count": 111,
      "outputs": [
        {
          "output_type": "stream",
          "name": "stderr",
          "text": [
            "/usr/local/lib/python3.10/dist-packages/sklearn/preprocessing/_encoders.py:868: FutureWarning: `sparse` was renamed to `sparse_output` in version 1.2 and will be removed in 1.4. `sparse_output` is ignored unless you leave `sparse` to its default value.\n",
            "  warnings.warn(\n"
          ]
        }
      ]
    },
    {
      "cell_type": "code",
      "source": [
        "model = LinearRegression()\n",
        "model.fit(Xtrain_encoded, y_train)\n",
        "r2_categorical = model.score(Xtest_encoded, y_test)\n",
        "y_pred_cat = model.predict(Xtest_encoded)\n",
        "rmse_cat = np.sqrt(np.mean((y_pred_cat - y_test) ** 2))\n",
        "print(\"R2:\", r2_categorical)\n",
        "print(\"RMSE:\", rmse_cat)\n"
      ],
      "metadata": {
        "id": "BfemUgechiOG",
        "outputId": "7566966e-2818-4cf5-c3a3-b50492e90970",
        "colab": {
          "base_uri": "https://localhost:8080/"
        }
      },
      "id": "BfemUgechiOG",
      "execution_count": 113,
      "outputs": [
        {
          "output_type": "stream",
          "name": "stdout",
          "text": [
            "R2: 0.775461860252852\n",
            "RMSE: 0.01263416907870518\n"
          ]
        }
      ]
    },
    {
      "cell_type": "markdown",
      "source": [
        "The R^2 for the categorical variables is much closer to 1, meaning it has more of a linear fit, then that of the numerical variables."
      ],
      "metadata": {
        "id": "LLbLv3odje8r"
      },
      "id": "LLbLv3odje8r"
    },
    {
      "cell_type": "code",
      "source": [
        "X_combined_train = np.concatenate((X_train_numeric, Xtrain_encoded), axis=1)\n",
        "X_combined_test = np.concatenate((X_test_numeric, Xtest_encoded), axis=1)"
      ],
      "metadata": {
        "id": "Blh-f8VHj58x"
      },
      "id": "Blh-f8VHj58x",
      "execution_count": 115,
      "outputs": []
    },
    {
      "cell_type": "code",
      "source": [
        "model_combined = LinearRegression()\n",
        "model_combined.fit(X_combined_train, y_train)\n",
        "r2_combined = model_combined.score(X_combined_test, y_test)\n",
        "y_pred_combined = model_combined.predict(X_combined_test)\n",
        "rmse_combined = np.sqrt(np.mean((y_pred_combined - y_test) ** 2))\n",
        "print(\"R2:\", r2_combined)\n",
        "print(\"RMSE:\", rmse_combined)"
      ],
      "metadata": {
        "id": "9aQuysIAkA1a",
        "outputId": "a38c112c-6526-4d63-d05b-0a617aa6cf31",
        "colab": {
          "base_uri": "https://localhost:8080/"
        }
      },
      "id": "9aQuysIAkA1a",
      "execution_count": 116,
      "outputs": [
        {
          "output_type": "stream",
          "name": "stdout",
          "text": [
            "R2: 0.7841820575024334\n",
            "RMSE: 0.012386408488409297\n"
          ]
        }
      ]
    },
    {
      "cell_type": "markdown",
      "source": [
        "The third model or the combined model of both the numerical and categorical variables has the highest R^2 value. It also has the lowest random error."
      ],
      "metadata": {
        "id": "Mgx5eQrkkDZL"
      },
      "id": "Mgx5eQrkkDZL"
    },
    {
      "cell_type": "markdown",
      "source": [
        "**1.5**\n",
        "\n",
        "Use the PolynomialFeatures function from sklearn to expand the set of numerical variables you're using, along with the categorical variables. As you increase the degree of the expansion, how do the\n",
        " and RMSE change? At what point does\n",
        " go negative on the test set? For your best model with expanded features, what is the\n",
        " and RMSE? How does it compare to your best model from part 3?"
      ],
      "metadata": {
        "id": "Lse_htdklEbi"
      },
      "id": "Lse_htdklEbi"
    },
    {
      "cell_type": "code",
      "source": [
        "# Expanding the numerical variables with degree 3\n",
        "\n",
        "# Expand features\n",
        "expander = PolynomialFeatures(degree=3,include_bias=False) # Create the expander\n",
        "Z_train = expander.fit_transform(X_train_numeric) # Pass the df into the expander to get powers/interactions of x and y\n",
        "names = expander.get_feature_names_out() # Get the names of these variables\n",
        "X_train_lm = pd.DataFrame(data=Z_train, columns = names) # Create a new, expanded dataframe\n",
        "\n",
        "Z_test = expander.fit_transform(X_test_numeric) # Pass the df into the expander to get powers/interactions of x and y\n",
        "names = expander.get_feature_names_out() # Get the names of these variables\n",
        "X_test_lm = pd.DataFrame(data=Z_test, columns = names) # Create a new, expanded dataframe"
      ],
      "metadata": {
        "id": "_fLyXka7kVQ8"
      },
      "id": "_fLyXka7kVQ8",
      "execution_count": 117,
      "outputs": []
    },
    {
      "cell_type": "code",
      "source": [
        "# Categorical Variables with One-Hot Encoding Model\n",
        "categorical_vars = ['Make', 'Make_Year', 'Color', 'Body_Type', 'Fuel_Type', 'Transmission', 'Transmission_Type']\n",
        "X_train_categorical = X_train[categorical_vars]\n",
        "X_test_categorical = X_test[categorical_vars]\n",
        "\n",
        "encoder = OneHotEncoder(sparse=False, drop='first')\n",
        "Xtrain_encoded = encoder.fit_transform(X_train_categorical)\n",
        "Xtest_encoded = encoder.transform(X_test_categorical)"
      ],
      "metadata": {
        "id": "_gN4Mx10loym",
        "outputId": "abdae62f-9b9b-4772-ffb6-7a9aa6d74aa7",
        "colab": {
          "base_uri": "https://localhost:8080/"
        }
      },
      "id": "_gN4Mx10loym",
      "execution_count": 118,
      "outputs": [
        {
          "output_type": "stream",
          "name": "stderr",
          "text": [
            "/usr/local/lib/python3.10/dist-packages/sklearn/preprocessing/_encoders.py:868: FutureWarning: `sparse` was renamed to `sparse_output` in version 1.2 and will be removed in 1.4. `sparse_output` is ignored unless you leave `sparse` to its default value.\n",
            "  warnings.warn(\n"
          ]
        }
      ]
    },
    {
      "cell_type": "code",
      "source": [
        "X_combined_train = np.concatenate((X_train_lm, Xtrain_encoded), axis=1)\n",
        "X_combined_test = np.concatenate((X_test_lm, Xtest_encoded), axis=1)"
      ],
      "metadata": {
        "id": "QOnA8aJClx4o"
      },
      "id": "QOnA8aJClx4o",
      "execution_count": 119,
      "outputs": []
    },
    {
      "cell_type": "code",
      "source": [
        "# Degree 3\n",
        "\n",
        "model_combined = LinearRegression()\n",
        "model_combined.fit(X_combined_train, y_train)\n",
        "r2_combined = model_combined.score(X_combined_test, y_test)\n",
        "y_pred_combined = model_combined.predict(X_combined_test)\n",
        "rmse_combined = np.sqrt(np.mean((y_pred_combined - y_test) ** 2))\n",
        "print(\"R2:\", r2_combined)\n",
        "print(\"RMSE:\", rmse_combined)"
      ],
      "metadata": {
        "id": "OPje5pxvl0j-",
        "outputId": "e16aa2f2-420e-4386-d7bf-738ca85385d1",
        "colab": {
          "base_uri": "https://localhost:8080/"
        }
      },
      "id": "OPje5pxvl0j-",
      "execution_count": 120,
      "outputs": [
        {
          "output_type": "stream",
          "name": "stdout",
          "text": [
            "R2: 0.7906614092477557\n",
            "RMSE: 0.01219905733775638\n"
          ]
        }
      ]
    },
    {
      "cell_type": "code",
      "source": [
        "# Expand features with degree 5\n",
        "expander = PolynomialFeatures(degree=5,include_bias=False) # Create the expander\n",
        "Z_train = expander.fit_transform(X_train_numeric) # Pass the df into the expander to get powers/interactions of x and y\n",
        "names = expander.get_feature_names_out() # Get the names of these variables\n",
        "X_train_lm = pd.DataFrame(data=Z_train, columns = names) # Create a new, expanded dataframe\n",
        "\n",
        "Z_test = expander.fit_transform(X_test_numeric) # Pass the df into the expander to get powers/interactions of x and y\n",
        "names = expander.get_feature_names_out() # Get the names of these variables\n",
        "X_test_lm = pd.DataFrame(data=Z_test, columns = names) # Create a new, expanded dataframe\n",
        "\n",
        "# combine datasets\n",
        "X_combined_train = np.concatenate((X_train_lm, Xtrain_encoded), axis=1)\n",
        "X_combined_test = np.concatenate((X_test_lm, Xtest_encoded), axis=1)\n",
        "\n",
        "# run new model\n",
        "model_combined = LinearRegression()\n",
        "model_combined.fit(X_combined_train, y_train)\n",
        "r2_combined = model_combined.score(X_combined_test, y_test)\n",
        "y_pred_combined = model_combined.predict(X_combined_test)\n",
        "rmse_combined = np.sqrt(np.mean((y_pred_combined - y_test) ** 2))\n",
        "print(\"R2:\", r2_combined)\n",
        "print(\"RMSE:\", rmse_combined)"
      ],
      "metadata": {
        "id": "rrwYK2xal21i",
        "outputId": "7ada7e7f-ce5e-4ad8-83fd-9e1f0a37a804",
        "colab": {
          "base_uri": "https://localhost:8080/"
        }
      },
      "id": "rrwYK2xal21i",
      "execution_count": 122,
      "outputs": [
        {
          "output_type": "stream",
          "name": "stdout",
          "text": [
            "R2: -0.44133661936548974\n",
            "RMSE: 0.03200990128373328\n"
          ]
        }
      ]
    },
    {
      "cell_type": "code",
      "source": [
        "# Expand features with degree 1\n",
        "expander = PolynomialFeatures(degree=1,include_bias=False) # Create the expander\n",
        "Z_train = expander.fit_transform(X_train_numeric) # Pass the df into the expander to get powers/interactions of x and y\n",
        "names = expander.get_feature_names_out() # Get the names of these variables\n",
        "X_train_lm = pd.DataFrame(data=Z_train, columns = names) # Create a new, expanded dataframe\n",
        "\n",
        "Z_test = expander.fit_transform(X_test_numeric) # Pass the df into the expander to get powers/interactions of x and y\n",
        "names = expander.get_feature_names_out() # Get the names of these variables\n",
        "X_test_lm = pd.DataFrame(data=Z_test, columns = names) # Create a new, expanded dataframe\n",
        "\n",
        "# combine datasets\n",
        "X_combined_train = np.concatenate((X_train_lm, Xtrain_encoded), axis=1)\n",
        "X_combined_test = np.concatenate((X_test_lm, Xtest_encoded), axis=1)\n",
        "\n",
        "# run new model\n",
        "model_combined = LinearRegression()\n",
        "model_combined.fit(X_combined_train, y_train)\n",
        "r2_combined = model_combined.score(X_combined_test, y_test)\n",
        "y_pred_combined = model_combined.predict(X_combined_test)\n",
        "rmse_combined = np.sqrt(np.mean((y_pred_combined - y_test) ** 2))\n",
        "print(\"R2:\", r2_combined)\n",
        "print(\"RMSE:\", rmse_combined)\n"
      ],
      "metadata": {
        "id": "uW6Xt5BwmBaj",
        "outputId": "805862dd-dae5-417e-d16f-1aa1539625fc",
        "colab": {
          "base_uri": "https://localhost:8080/"
        }
      },
      "id": "uW6Xt5BwmBaj",
      "execution_count": 123,
      "outputs": [
        {
          "output_type": "stream",
          "name": "stdout",
          "text": [
            "R2: 0.7841820575024334\n",
            "RMSE: 0.012386408488409297\n"
          ]
        }
      ]
    },
    {
      "cell_type": "code",
      "source": [
        "# looping through each degree to find the R2 and the RMSE values\n",
        "\n",
        "for i in range(1,10):\n",
        "  # Expand features with degree i\n",
        "  expander = PolynomialFeatures(degree=i,include_bias=False) # Create the expander\n",
        "  Z_train = expander.fit_transform(X_train_numeric) # Pass the df into the expander to get powers/interactions of x and y\n",
        "  names = expander.get_feature_names_out() # Get the names of these variables\n",
        "  X_train_lm = pd.DataFrame(data=Z_train, columns = names) # Create a new, expanded dataframe\n",
        "\n",
        "  Z_test = expander.fit_transform(X_test_numeric) # Pass the df into the expander to get powers/interactions of x and y\n",
        "  names = expander.get_feature_names_out() # Get the names of these variables\n",
        "  X_test_lm = pd.DataFrame(data=Z_test, columns = names) # Create a new, expanded dataframe\n",
        "\n",
        "  # combine datasets\n",
        "  X_combined_train = np.concatenate((X_train_lm, Xtrain_encoded), axis=1)\n",
        "  X_combined_test = np.concatenate((X_test_lm, Xtest_encoded), axis=1)\n",
        "\n",
        "  # run new model\n",
        "  model_combined = LinearRegression()\n",
        "  model_combined.fit(X_combined_train, y_train)\n",
        "  r2_combined = model_combined.score(X_combined_test, y_test)\n",
        "  y_pred_combined = model_combined.predict(X_combined_test)\n",
        "  rmse_combined = np.sqrt(np.mean((y_pred_combined - y_test) ** 2))\n",
        "  print(\"R2:\", r2_combined)\n",
        "  print(\"RMSE:\", rmse_combined)\n",
        "  print('-----------------------')"
      ],
      "metadata": {
        "id": "7zKObQhdmBbq",
        "outputId": "b0963f8e-c3b1-4ec0-bf27-e72f3a698ef6",
        "colab": {
          "base_uri": "https://localhost:8080/"
        }
      },
      "id": "7zKObQhdmBbq",
      "execution_count": 125,
      "outputs": [
        {
          "output_type": "stream",
          "name": "stdout",
          "text": [
            "R2: 0.7841820575024334\n",
            "RMSE: 0.012386408488409297\n",
            "-----------------------\n",
            "R2: 0.7885819584097025\n",
            "RMSE: 0.012259496874194455\n",
            "-----------------------\n",
            "R2: 0.7906614092477557\n",
            "RMSE: 0.01219905733775638\n",
            "-----------------------\n",
            "R2: 0.787064518009629\n",
            "RMSE: 0.012303414116023417\n",
            "-----------------------\n",
            "R2: -0.44133661936548974\n",
            "RMSE: 0.03200990128373328\n",
            "-----------------------\n",
            "R2: 0.6577565202324183\n",
            "RMSE: 0.01559801077245244\n",
            "-----------------------\n",
            "R2: -549.0717193679077\n",
            "RMSE: 0.6253329068351055\n",
            "-----------------------\n",
            "R2: -27354.397267404856\n",
            "RMSE: 4.409843097912733\n",
            "-----------------------\n",
            "R2: -102300.02204006856\n",
            "RMSE: 8.527890410991281\n",
            "-----------------------\n"
          ]
        }
      ]
    },
    {
      "cell_type": "markdown",
      "source": [
        "As the degree increases for these models after the third degree, the R2 starts to decrease and the RSME increases. The R2 is lower than our combined previous model, but higher than are numeric model at the first, second, and third degree. R2 starts to go negative when the degree gets larger than 5. These models are worse than my models in part 3. The best model so far has been the expanded model at degree 3."
      ],
      "metadata": {
        "id": "S5mJo7OmmaQd"
      },
      "id": "S5mJo7OmmaQd"
    },
    {
      "cell_type": "markdown",
      "source": [
        "**1.6**\n",
        "\n",
        "For your best model so far, determine the predicted values for the test data and plot them against the true values. Do the predicted values and true values roughly line up along the diagonal, or not? Compute the residuals/errors for the test data and create a kernel density plot. Do the residuals look roughly bell-shaped around zero? Evaluate the strengths and weaknesses of your model."
      ],
      "metadata": {
        "id": "50cQpLB9lIUP"
      },
      "id": "50cQpLB9lIUP"
    },
    {
      "cell_type": "code",
      "source": [
        "expander = PolynomialFeatures(degree=3,include_bias=False) # Create the expander\n",
        "Z_train = expander.fit_transform(X_train_numeric) # Pass the df into the expander to get powers/interactions of x and y\n",
        "names = expander.get_feature_names_out() # Get the names of these variables\n",
        "X_train_lm = pd.DataFrame(data=Z_train, columns = names) # Create a new, expanded dataframe\n",
        "\n",
        "Z_test = expander.fit_transform(X_test_numeric) # Pass the df into the expander to get powers/interactions of x and y\n",
        "names = expander.get_feature_names_out() # Get the names of these variables\n",
        "X_test_lm = pd.DataFrame(data=Z_test, columns = names) # Create a new, expanded dataframe"
      ],
      "metadata": {
        "id": "IN-8bcHbnMnl"
      },
      "id": "IN-8bcHbnMnl",
      "execution_count": 126,
      "outputs": []
    },
    {
      "cell_type": "code",
      "source": [
        "# Categorical Variables with One-Hot Encoding Model\n",
        "categorical_vars = ['Make', 'Make_Year', 'Color', 'Body_Type', 'Fuel_Type', 'Transmission', 'Transmission_Type']\n",
        "X_train_categorical = X_train[categorical_vars]\n",
        "X_test_categorical = X_test[categorical_vars]\n",
        "\n",
        "encoder = OneHotEncoder(sparse=False, drop='first')\n",
        "Xtrain_encoded = encoder.fit_transform(X_train_categorical)\n",
        "Xtest_encoded = encoder.transform(X_test_categorical)"
      ],
      "metadata": {
        "id": "40jTbpeFnUyx",
        "outputId": "957f199c-e463-408e-9b65-9be4b4d04498",
        "colab": {
          "base_uri": "https://localhost:8080/"
        }
      },
      "id": "40jTbpeFnUyx",
      "execution_count": 127,
      "outputs": [
        {
          "output_type": "stream",
          "name": "stderr",
          "text": [
            "/usr/local/lib/python3.10/dist-packages/sklearn/preprocessing/_encoders.py:868: FutureWarning: `sparse` was renamed to `sparse_output` in version 1.2 and will be removed in 1.4. `sparse_output` is ignored unless you leave `sparse` to its default value.\n",
            "  warnings.warn(\n"
          ]
        }
      ]
    },
    {
      "cell_type": "code",
      "source": [
        "X_combined_train = np.concatenate((X_train_lm, Xtrain_encoded), axis=1)\n",
        "X_combined_test = np.concatenate((X_test_lm, Xtest_encoded), axis=1)"
      ],
      "metadata": {
        "id": "JT8NVnmInYet"
      },
      "id": "JT8NVnmInYet",
      "execution_count": 128,
      "outputs": []
    },
    {
      "cell_type": "code",
      "source": [
        "# Degree 3\n",
        "\n",
        "model_combined = LinearRegression()\n",
        "model_combined.fit(X_combined_train, y_train)\n",
        "r2_combined = model_combined.score(X_combined_test, y_test)\n",
        "y_pred_combined = model_combined.predict(X_combined_test)\n",
        "rmse_combined = np.sqrt(np.mean((y_pred_combined - y_test) ** 2))\n",
        "print(\"R2:\", r2_combined)\n",
        "print(\"RMSE:\", rmse_combined)"
      ],
      "metadata": {
        "id": "SrYODmQ4nZTU",
        "outputId": "f767f828-ec2b-465a-ce9e-79ad42287c94",
        "colab": {
          "base_uri": "https://localhost:8080/"
        }
      },
      "id": "SrYODmQ4nZTU",
      "execution_count": 129,
      "outputs": [
        {
          "output_type": "stream",
          "name": "stdout",
          "text": [
            "R2: 0.7906614092477557\n",
            "RMSE: 0.01219905733775638\n"
          ]
        }
      ]
    },
    {
      "cell_type": "code",
      "source": [
        "# Create a scatter plot\n",
        "plt.figure(figsize=(8, 6))\n",
        "plt.scatter(y_test, y_pred_combined, alpha=0.5)\n",
        "plt.title(\"Predicted vs. True Values\")\n",
        "plt.xlabel(\"True Values\")\n",
        "plt.ylabel(\"Predicted Values\")\n",
        "\n",
        "# Add a 45-degree line for reference (perfect predictions)\n",
        "plt.plot([min(y_test), max(y_test)], [min(y_test), max(y_test)], color='red', linestyle='--')\n",
        "\n",
        "# Show the plot\n",
        "plt.show()"
      ],
      "metadata": {
        "id": "gZlU4SZ5nkoC",
        "outputId": "5a531fa0-18eb-4cf2-d592-2c9876b9ef4d",
        "colab": {
          "base_uri": "https://localhost:8080/",
          "height": 584
        }
      },
      "id": "gZlU4SZ5nkoC",
      "execution_count": 130,
      "outputs": [
        {
          "output_type": "display_data",
          "data": {
            "text/plain": [
              "<Figure size 800x600 with 1 Axes>"
            ],
            "image/png": "[encoded data removed]"
          },
          "metadata": {}
        }
      ]
    },
    {
      "cell_type": "markdown",
      "source": [
        "The predicted versus the actual points are relatively strong and linear. Therefore, our model is accurate."
      ],
      "metadata": {
        "id": "8lMPvgdVn1DW"
      },
      "id": "8lMPvgdVn1DW"
    },
    {
      "cell_type": "code",
      "source": [
        "# residuals:\n",
        "res = y_test - y_pred_combined\n",
        "\n",
        "sns.kdeplot(res, shade=True)\n",
        "plt.title(\"Residuals Kernel Density Plot\")\n",
        "plt.xlabel(\"Residuals\")\n",
        "\n",
        "# Show the plot\n",
        "plt.show()"
      ],
      "metadata": {
        "id": "RBz4HFNSnysE",
        "outputId": "961fed76-374e-476f-c970-dd899ffd9599",
        "colab": {
          "base_uri": "https://localhost:8080/",
          "height": 579
        }
      },
      "id": "RBz4HFNSnysE",
      "execution_count": 131,
      "outputs": [
        {
          "output_type": "stream",
          "name": "stderr",
          "text": [
            "<ipython-input-131-83b88d2c2c9b>:4: FutureWarning: \n",
            "\n",
            "`shade` is now deprecated in favor of `fill`; setting `fill=True`.\n",
            "This will become an error in seaborn v0.14.0; please update your code.\n",
            "\n",
            "  sns.kdeplot(res, shade=True)\n"
          ]
        },
        {
          "output_type": "display_data",
          "data": {
            "text/plain": [
              "<Figure size 640x480 with 1 Axes>"
            ],
            "image/png": "[encoded data removed]"
          },
          "metadata": {}
        }
      ]
    },
    {
      "cell_type": "markdown",
      "source": [
        "The bell curve is centered at zero. It is relatively a normal distrubution curve (bell shaped)."
      ],
      "metadata": {
        "id": "94ofBCCtoClO"
      },
      "id": "94ofBCCtoClO"
    },
    {
      "cell_type": "markdown",
      "source": [
        "**1.7**\n",
        "\n",
        "Now, let's use a regression tree. Construct an appropriate matrix of regressors/features, and fit a tree to the data. Vary the maximum depth of the decision tree using the max_depth option (i.e. tree.DecisionTreeRegressor(max_depth=D)), and compute the\n",
        " and RMSE on the test set of a variety of depths. What depth tree gives the best results?"
      ],
      "metadata": {
        "id": "AnlGzgmklMSs"
      },
      "id": "AnlGzgmklMSs"
    },
    {
      "cell_type": "code",
      "source": [
        "X_traincode= pd.get_dummies(X_train, drop_first=True)\n",
        "X_testcode = pd.get_dummies(X_test, drop_first=True)"
      ],
      "metadata": {
        "id": "Z0iNfEVpoLnD"
      },
      "id": "Z0iNfEVpoLnD",
      "execution_count": 132,
      "outputs": []
    },
    {
      "cell_type": "code",
      "source": [
        "X_testcode.head()"
      ],
      "metadata": {
        "id": "Pkca_WSBoNz9",
        "outputId": "545e2ad2-7b41-4552-f76e-64b662983ce5",
        "colab": {
          "base_uri": "https://localhost:8080/",
          "height": 273
        }
      },
      "id": "Pkca_WSBoNz9",
      "execution_count": 133,
      "outputs": [
        {
          "output_type": "execute_result",
          "data": {
            "text/plain": [
              "     Mileage_Run  No_of_Owners  Seating_Capacity  Make_Ford  Make_Honda  \\\n",
              "102     2.443789             2                 5          0           0   \n",
              "274     2.512446             1                 5          1           0   \n",
              "841     2.468290             1                 5          0           0   \n",
              "25      2.421245             1                 5          0           0   \n",
              "32      2.418404             1                 5          0           0   \n",
              "\n",
              "     Make_Hyundai  Make_Jeep  Make_Kia  Make_MG Motors  Make_Mahindra  ...  \\\n",
              "102             0          0         0               0              0  ...   \n",
              "274             0          0         0               0              0  ...   \n",
              "841             1          0         0               0              0  ...   \n",
              "25              0          0         0               0              0  ...   \n",
              "32              0          0         0               0              0  ...   \n",
              "\n",
              "     Body_Type_hatchback  Body_Type_muv  Body_Type_sedan  Body_Type_suv  \\\n",
              "102                    0              0                1              0   \n",
              "274                    1              0                0              0   \n",
              "841                    0              0                0              1   \n",
              "25                     0              0                1              0   \n",
              "32                     1              0                0              0   \n",
              "\n",
              "     Fuel_Type_petrol  Transmission_5-Speed  Transmission_6-Speed  \\\n",
              "102                 1                     1                     0   \n",
              "274                 0                     1                     0   \n",
              "841                 1                     0                     1   \n",
              "25                  1                     1                     0   \n",
              "32                  1                     1                     0   \n",
              "\n",
              "     Transmission_7-Speed  Transmission_CVT  Transmission_Type_Manual  \n",
              "102                     0                 0                         1  \n",
              "274                     0                 0                         1  \n",
              "841                     0                 0                         1  \n",
              "25                      0                 0                         1  \n",
              "32                      0                 0                         1  \n",
              "\n",
              "[5 rows x 48 columns]"
            ],
            "text/html": [
              "\n",
              "  <div id=\"df-fd79af09-60ea-4a8c-9a8b-a7bca076ab9a\" class=\"colab-df-container\">\n",
              "    <div>\n",
              "<style scoped>\n",
              "    .dataframe tbody tr th:only-of-type {\n",
              "        vertical-align: middle;\n",
              "    }\n",
              "\n",
              "    .dataframe tbody tr th {\n",
              "        vertical-align: top;\n",
              "    }\n",
              "\n",
              "    .dataframe thead th {\n",
              "        text-align: right;\n",
              "    }\n",
              "</style>\n",
              "<table border=\"1\" class=\"dataframe\">\n",
              "  <thead>\n",
              "    <tr style=\"text-align: right;\">\n",
              "      <th></th>\n",
              "      <th>Mileage_Run</th>\n",
              "      <th>No_of_Owners</th>\n",
              "      <th>Seating_Capacity</th>\n",
              "      <th>Make_Ford</th>\n",
              "      <th>Make_Honda</th>\n",
              "      <th>Make_Hyundai</th>\n",
              "      <th>Make_Jeep</th>\n",
              "      <th>Make_Kia</th>\n",
              "      <th>Make_MG Motors</th>\n",
              "      <th>Make_Mahindra</th>\n",
              "      <th>...</th>\n",
              "      <th>Body_Type_hatchback</th>\n",
              "      <th>Body_Type_muv</th>\n",
              "      <th>Body_Type_sedan</th>\n",
              "      <th>Body_Type_suv</th>\n",
              "      <th>Fuel_Type_petrol</th>\n",
              "      <th>Transmission_5-Speed</th>\n",
              "      <th>Transmission_6-Speed</th>\n",
              "      <th>Transmission_7-Speed</th>\n",
              "      <th>Transmission_CVT</th>\n",
              "      <th>Transmission_Type_Manual</th>\n",
              "    </tr>\n",
              "  </thead>\n",
              "  <tbody>\n",
              "    <tr>\n",
              "      <th>102</th>\n",
              "      <td>2.443789</td>\n",
              "      <td>2</td>\n",
              "      <td>5</td>\n",
              "      <td>0</td>\n",
              "      <td>0</td>\n",
              "      <td>0</td>\n",
              "      <td>0</td>\n",
              "      <td>0</td>\n",
              "      <td>0</td>\n",
              "      <td>0</td>\n",
              "      <td>...</td>\n",
              "      <td>0</td>\n",
              "      <td>0</td>\n",
              "      <td>1</td>\n",
              "      <td>0</td>\n",
              "      <td>1</td>\n",
              "      <td>1</td>\n",
              "      <td>0</td>\n",
              "      <td>0</td>\n",
              "      <td>0</td>\n",
              "      <td>1</td>\n",
              "    </tr>\n",
              "    <tr>\n",
              "      <th>274</th>\n",
              "      <td>2.512446</td>\n",
              "      <td>1</td>\n",
              "      <td>5</td>\n",
              "      <td>1</td>\n",
              "      <td>0</td>\n",
              "      <td>0</td>\n",
              "      <td>0</td>\n",
              "      <td>0</td>\n",
              "      <td>0</td>\n",
              "      <td>0</td>\n",
              "      <td>...</td>\n",
              "      <td>1</td>\n",
              "      <td>0</td>\n",
              "      <td>0</td>\n",
              "      <td>0</td>\n",
              "      <td>0</td>\n",
              "      <td>1</td>\n",
              "      <td>0</td>\n",
              "      <td>0</td>\n",
              "      <td>0</td>\n",
              "      <td>1</td>\n",
              "    </tr>\n",
              "    <tr>\n",
              "      <th>841</th>\n",
              "      <td>2.468290</td>\n",
              "      <td>1</td>\n",
              "      <td>5</td>\n",
              "      <td>0</td>\n",
              "      <td>0</td>\n",
              "      <td>1</td>\n",
              "      <td>0</td>\n",
              "      <td>0</td>\n",
              "      <td>0</td>\n",
              "      <td>0</td>\n",
              "      <td>...</td>\n",
              "      <td>0</td>\n",
              "      <td>0</td>\n",
              "      <td>0</td>\n",
              "      <td>1</td>\n",
              "      <td>1</td>\n",
              "      <td>0</td>\n",
              "      <td>1</td>\n",
              "      <td>0</td>\n",
              "      <td>0</td>\n",
              "      <td>1</td>\n",
              "    </tr>\n",
              "    <tr>\n",
              "      <th>25</th>\n",
              "      <td>2.421245</td>\n",
              "      <td>1</td>\n",
              "      <td>5</td>\n",
              "      <td>0</td>\n",
              "      <td>0</td>\n",
              "      <td>0</td>\n",
              "      <td>0</td>\n",
              "      <td>0</td>\n",
              "      <td>0</td>\n",
              "      <td>0</td>\n",
              "      <td>...</td>\n",
              "      <td>0</td>\n",
              "      <td>0</td>\n",
              "      <td>1</td>\n",
              "      <td>0</td>\n",
              "      <td>1</td>\n",
              "      <td>1</td>\n",
              "      <td>0</td>\n",
              "      <td>0</td>\n",
              "      <td>0</td>\n",
              "      <td>1</td>\n",
              "    </tr>\n",
              "    <tr>\n",
              "      <th>32</th>\n",
              "      <td>2.418404</td>\n",
              "      <td>1</td>\n",
              "      <td>5</td>\n",
              "      <td>0</td>\n",
              "      <td>0</td>\n",
              "      <td>0</td>\n",
              "      <td>0</td>\n",
              "      <td>0</td>\n",
              "      <td>0</td>\n",
              "      <td>0</td>\n",
              "      <td>...</td>\n",
              "      <td>1</td>\n",
              "      <td>0</td>\n",
              "      <td>0</td>\n",
              "      <td>0</td>\n",
              "      <td>1</td>\n",
              "      <td>1</td>\n",
              "      <td>0</td>\n",
              "      <td>0</td>\n",
              "      <td>0</td>\n",
              "      <td>1</td>\n",
              "    </tr>\n",
              "  </tbody>\n",
              "</table>\n",
              "<p>5 rows × 48 columns</p>\n",
              "</div>\n",
              "    <div class=\"colab-df-buttons\">\n",
              "\n",
              "  <div class=\"colab-df-container\">\n",
              "    <button class=\"colab-df-convert\" onclick=\"convertToInteractive('df-fd79af09-60ea-4a8c-9a8b-a7bca076ab9a')\"\n",
              "            title=\"Convert this dataframe to an interactive table.\"\n",
              "            style=\"display:none;\">\n",
              "\n",
              "  <svg xmlns=\"http://www.w3.org/2000/svg\" height=\"24px\" viewBox=\"0 -960 960 960\">\n",
              "    <path d=\"M120-120v-720h720v720H120Zm60-500h600v-160H180v160Zm220 220h160v-160H400v160Zm0 220h160v-160H400v160ZM180-400h160v-160H180v160Zm440 0h160v-160H620v160ZM180-180h160v-160H180v160Zm440 0h160v-160H620v160Z\"/>\n",
              "  </svg>\n",
              "    </button>\n",
              "\n",
              "  <style>\n",
              "    .colab-df-container {\n",
              "      display:flex;\n",
              "      gap: 12px;\n",
              "    }\n",
              "\n",
              "    .colab-df-convert {\n",
              "      background-color: #E8F0FE;\n",
              "      border: none;\n",
              "      border-radius: 50%;\n",
              "      cursor: pointer;\n",
              "      display: none;\n",
              "      fill: #1967D2;\n",
              "      height: 32px;\n",
              "      padding: 0 0 0 0;\n",
              "      width: 32px;\n",
              "    }\n",
              "\n",
              "    .colab-df-convert:hover {\n",
              "      background-color: #E2EBFA;\n",
              "      box-shadow: 0px 1px 2px rgba(60, 64, 67, 0.3), 0px 1px 3px 1px rgba(60, 64, 67, 0.15);\n",
              "      fill: #174EA6;\n",
              "    }\n",
              "\n",
              "    .colab-df-buttons div {\n",
              "      margin-bottom: 4px;\n",
              "    }\n",
              "\n",
              "    [theme=dark] .colab-df-convert {\n",
              "      background-color: #3B4455;\n",
              "      fill: #D2E3FC;\n",
              "    }\n",
              "\n",
              "    [theme=dark] .colab-df-convert:hover {\n",
              "      background-color: #434B5C;\n",
              "      box-shadow: 0px 1px 3px 1px rgba(0, 0, 0, 0.15);\n",
              "      filter: drop-shadow(0px 1px 2px rgba(0, 0, 0, 0.3));\n",
              "      fill: #FFFFFF;\n",
              "    }\n",
              "  </style>\n",
              "\n",
              "    <script>\n",
              "      const buttonEl =\n",
              "        document.querySelector('#df-fd79af09-60ea-4a8c-9a8b-a7bca076ab9a button.colab-df-convert');\n",
              "      buttonEl.style.display =\n",
              "        google.colab.kernel.accessAllowed ? 'block' : 'none';\n",
              "\n",
              "      async function convertToInteractive(key) {\n",
              "        const element = document.querySelector('#df-fd79af09-60ea-4a8c-9a8b-a7bca076ab9a');\n",
              "        const dataTable =\n",
              "          await google.colab.kernel.invokeFunction('convertToInteractive',\n",
              "                                                    [key], {});\n",
              "        if (!dataTable) return;\n",
              "\n",
              "        const docLinkHtml = 'Like what you see? Visit the ' +\n",
              "          '<a target=\"_blank\" href=https://colab.research.google.com/notebooks/data_table.ipynb>data table notebook</a>'\n",
              "          + ' to learn more about interactive tables.';\n",
              "        element.innerHTML = '';\n",
              "        dataTable['output_type'] = 'display_data';\n",
              "        await google.colab.output.renderOutput(dataTable, element);\n",
              "        const docLink = document.createElement('div');\n",
              "        docLink.innerHTML = docLinkHtml;\n",
              "        element.appendChild(docLink);\n",
              "      }\n",
              "    </script>\n",
              "  </div>\n",
              "\n",
              "\n",
              "<div id=\"df-dc947ae2-5a3b-42b2-bb08-c5617d8b4642\">\n",
              "  <button class=\"colab-df-quickchart\" onclick=\"quickchart('df-dc947ae2-5a3b-42b2-bb08-c5617d8b4642')\"\n",
              "            title=\"Suggest charts\"\n",
              "            style=\"display:none;\">\n",
              "\n",
              "<svg xmlns=\"http://www.w3.org/2000/svg\" height=\"24px\"viewBox=\"0 0 24 24\"\n",
              "     width=\"24px\">\n",
              "    <g>\n",
              "        <path d=\"M19 3H5c-1.1 0-2 .9-2 2v14c0 1.1.9 2 2 2h14c1.1 0 2-.9 2-2V5c0-1.1-.9-2-2-2zM9 17H7v-7h2v7zm4 0h-2V7h2v10zm4 0h-2v-4h2v4z\"/>\n",
              "    </g>\n",
              "</svg>\n",
              "  </button>\n",
              "\n",
              "<style>\n",
              "  .colab-df-quickchart {\n",
              "      --bg-color: #E8F0FE;\n",
              "      --fill-color: #1967D2;\n",
              "      --hover-bg-color: #E2EBFA;\n",
              "      --hover-fill-color: #174EA6;\n",
              "      --disabled-fill-color: #AAA;\n",
              "      --disabled-bg-color: #DDD;\n",
              "  }\n",
              "\n",
              "  [theme=dark] .colab-df-quickchart {\n",
              "      --bg-color: #3B4455;\n",
              "      --fill-color: #D2E3FC;\n",
              "      --hover-bg-color: #434B5C;\n",
              "      --hover-fill-color: #FFFFFF;\n",
              "      --disabled-bg-color: #3B4455;\n",
              "      --disabled-fill-color: #666;\n",
              "  }\n",
              "\n",
              "  .colab-df-quickchart {\n",
              "    background-color: var(--bg-color);\n",
              "    border: none;\n",
              "    border-radius: 50%;\n",
              "    cursor: pointer;\n",
              "    display: none;\n",
              "    fill: var(--fill-color);\n",
              "    height: 32px;\n",
              "    padding: 0;\n",
              "    width: 32px;\n",
              "  }\n",
              "\n",
              "  .colab-df-quickchart:hover {\n",
              "    background-color: var(--hover-bg-color);\n",
              "    box-shadow: 0 1px 2px rgba(60, 64, 67, 0.3), 0 1px 3px 1px rgba(60, 64, 67, 0.15);\n",
              "    fill: var(--button-hover-fill-color);\n",
              "  }\n",
              "\n",
              "  .colab-df-quickchart-complete:disabled,\n",
              "  .colab-df-quickchart-complete:disabled:hover {\n",
              "    background-color: var(--disabled-bg-color);\n",
              "    fill: var(--disabled-fill-color);\n",
              "    box-shadow: none;\n",
              "  }\n",
              "\n",
              "  .colab-df-spinner {\n",
              "    border: 2px solid var(--fill-color);\n",
              "    border-color: transparent;\n",
              "    border-bottom-color: var(--fill-color);\n",
              "    animation:\n",
              "      spin 1s steps(1) infinite;\n",
              "  }\n",
              "\n",
              "  @keyframes spin {\n",
              "    0% {\n",
              "      border-color: transparent;\n",
              "      border-bottom-color: var(--fill-color);\n",
              "      border-left-color: var(--fill-color);\n",
              "    }\n",
              "    20% {\n",
              "      border-color: transparent;\n",
              "      border-left-color: var(--fill-color);\n",
              "      border-top-color: var(--fill-color);\n",
              "    }\n",
              "    30% {\n",
              "      border-color: transparent;\n",
              "      border-left-color: var(--fill-color);\n",
              "      border-top-color: var(--fill-color);\n",
              "      border-right-color: var(--fill-color);\n",
              "    }\n",
              "    40% {\n",
              "      border-color: transparent;\n",
              "      border-right-color: var(--fill-color);\n",
              "      border-top-color: var(--fill-color);\n",
              "    }\n",
              "    60% {\n",
              "      border-color: transparent;\n",
              "      border-right-color: var(--fill-color);\n",
              "    }\n",
              "    80% {\n",
              "      border-color: transparent;\n",
              "      border-right-color: var(--fill-color);\n",
              "      border-bottom-color: var(--fill-color);\n",
              "    }\n",
              "    90% {\n",
              "      border-color: transparent;\n",
              "      border-bottom-color: var(--fill-color);\n",
              "    }\n",
              "  }\n",
              "</style>\n",
              "\n",
              "  <script>\n",
              "    async function quickchart(key) {\n",
              "      const quickchartButtonEl =\n",
              "        document.querySelector('#' + key + ' button');\n",
              "      quickchartButtonEl.disabled = true;  // To prevent multiple clicks.\n",
              "      quickchartButtonEl.classList.add('colab-df-spinner');\n",
              "      try {\n",
              "        const charts = await google.colab.kernel.invokeFunction(\n",
              "            'suggestCharts', [key], {});\n",
              "      } catch (error) {\n",
              "        console.error('Error during call to suggestCharts:', error);\n",
              "      }\n",
              "      quickchartButtonEl.classList.remove('colab-df-spinner');\n",
              "      quickchartButtonEl.classList.add('colab-df-quickchart-complete');\n",
              "    }\n",
              "    (() => {\n",
              "      let quickchartButtonEl =\n",
              "        document.querySelector('#df-dc947ae2-5a3b-42b2-bb08-c5617d8b4642 button');\n",
              "      quickchartButtonEl.style.display =\n",
              "        google.colab.kernel.accessAllowed ? 'block' : 'none';\n",
              "    })();\n",
              "  </script>\n",
              "</div>\n",
              "    </div>\n",
              "  </div>\n"
            ]
          },
          "metadata": {},
          "execution_count": 133
        }
      ]
    },
    {
      "cell_type": "code",
      "source": [
        "# Check for missing columns in the test set\n",
        "missing = set(X_traincode.columns) - set(X_testcode.columns)\n",
        "\n",
        "# Create missing dummy columns in the test set and set values to 0\n",
        "for col in missing:\n",
        "    X_testcode[col] = 0\n",
        "\n",
        "X_testcode = X_testcode[X_traincode.columns]\n"
      ],
      "metadata": {
        "id": "lv123XyFoQcf"
      },
      "id": "lv123XyFoQcf",
      "execution_count": 135,
      "outputs": []
    },
    {
      "cell_type": "code",
      "source": [
        "## Decision Trees with varing depths\n",
        "from sklearn import tree\n",
        "\n",
        "for i in range(1,10):\n",
        "  D = i\n",
        "  model = tree.DecisionTreeRegressor(max_depth=10) # Fit the classifier\n",
        "  car_tree = model.fit(X_traincode, y_train)\n",
        "\n",
        "  ## Make Predictions on the Test Set\n",
        "  y_hat_car_tree = car_tree.predict(X_testcode)\n",
        "  residuals_cart = y_test - y_hat_car_tree\n",
        "\n",
        "  ## Metrics:\n",
        "  SSE_car_tree = np.sum( (y_test-y_hat_cart)**2 )\n",
        "  MSE_car_tree = (1/No_test)*np.sum( (y_test-y_hat_car_tree)**2 )\n",
        "  RMSE_car_tree = (SSE_car_tree/No_test)**(1/2)\n",
        "  R2_car_tree = 1 - SSE_car_tree/TSS\n",
        "\n",
        "  print(D)\n",
        "  print('R2:', R2_car_tree)\n",
        "  print('SSE:', SSE_car_tree)\n",
        "  print('----------------')"
      ],
      "metadata": {
        "id": "FDldOlOtoXp4",
        "outputId": "cd196ab2-16da-4d15-b533-ad4c3b642be0",
        "colab": {
          "base_uri": "https://localhost:8080/"
        }
      },
      "id": "FDldOlOtoXp4",
      "execution_count": 143,
      "outputs": [
        {
          "output_type": "stream",
          "name": "stdout",
          "text": [
            "1\n",
            "R2: 0.7157129491560987\n",
            "SSE: 0.03873300256082572\n",
            "----------------\n",
            "2\n",
            "R2: 0.7157129491560987\n",
            "SSE: 0.03873300256082572\n",
            "----------------\n",
            "3\n",
            "R2: 0.7157129491560987\n",
            "SSE: 0.03873300256082572\n",
            "----------------\n",
            "4\n",
            "R2: 0.7157129491560987\n",
            "SSE: 0.03873300256082572\n",
            "----------------\n",
            "5\n",
            "R2: 0.7157129491560987\n",
            "SSE: 0.03873300256082572\n",
            "----------------\n",
            "6\n",
            "R2: 0.7157129491560987\n",
            "SSE: 0.03873300256082572\n",
            "----------------\n",
            "7\n",
            "R2: 0.7157129491560987\n",
            "SSE: 0.03873300256082572\n",
            "----------------\n",
            "8\n",
            "R2: 0.7157129491560987\n",
            "SSE: 0.03873300256082572\n",
            "----------------\n",
            "9\n",
            "R2: 0.7157129491560987\n",
            "SSE: 0.03873300256082572\n",
            "----------------\n"
          ]
        }
      ]
    },
    {
      "cell_type": "markdown",
      "source": [
        "The depth tree that gives the highest R^2 value has the depth of 4. It has an R^2 value of 0.71745."
      ],
      "metadata": {
        "id": "7BSyqgKbpaSL"
      },
      "id": "7BSyqgKbpaSL"
    },
    {
      "cell_type": "markdown",
      "source": [
        "**1.8**\n",
        "\n",
        "For your best tree, determine the predicted values for the test data, and plot them against the true values. Do the predicted values and true values line up along the diagonal, or not? Compute the residuals/errors for the test data and create a kernel density plot. Do the residuals look roughly bell-shaped around zero?"
      ],
      "metadata": {
        "id": "w1-ItB6RlRQH"
      },
      "id": "w1-ItB6RlRQH"
    },
    {
      "cell_type": "code",
      "source": [
        "# Create a scatter plot\n",
        "plt.figure(figsize=(8, 6))\n",
        "plt.scatter(y_test, y_hat_car_tree, alpha=0.5)\n",
        "plt.title(\"Predicted vs. True Values\")\n",
        "plt.xlabel(\"True Values\")\n",
        "plt.ylabel(\"Predicted Values\")\n",
        "\n",
        "# Add a 45-degree line for reference (perfect predictions)\n",
        "plt.plot([min(y_test), max(y_test)], [min(y_test), max(y_test)], color='red', linestyle='--')\n",
        "\n",
        "# Show the plot\n",
        "plt.show()"
      ],
      "metadata": {
        "id": "PwuO3hUSppbu",
        "outputId": "8f96c2b4-7977-4229-b873-4b52e5dd9132",
        "colab": {
          "base_uri": "https://localhost:8080/",
          "height": 509
        }
      },
      "id": "PwuO3hUSppbu",
      "execution_count": 144,
      "outputs": [
        {
          "output_type": "display_data",
          "data": {
            "text/plain": [
              "<Figure size 800x600 with 1 Axes>"
            ],
            "image/png": "[encoded data removed]"
          },
          "metadata": {}
        }
      ]
    },
    {
      "cell_type": "markdown",
      "source": [
        "The values are relatively linear. The model is not as strong as the other combined model."
      ],
      "metadata": {
        "id": "vixKqHNhpv8X"
      },
      "id": "vixKqHNhpv8X"
    },
    {
      "cell_type": "code",
      "source": [
        "# Residuals:\n",
        "residuals_tree = y_test - y_hat_car_tree\n",
        "\n",
        "sns.kdeplot(residuals_cart, shade=True)\n",
        "plt.title(\"Residuals Kernel Density Plot\")\n",
        "plt.xlabel(\"Residuals\")\n",
        "\n",
        "# Show the plot\n",
        "plt.show()"
      ],
      "metadata": {
        "id": "4PQ4het1p4m1",
        "outputId": "b25133c5-1bc8-4c9b-a80a-71c7d5ba0982",
        "colab": {
          "base_uri": "https://localhost:8080/",
          "height": 579
        }
      },
      "id": "4PQ4het1p4m1",
      "execution_count": 145,
      "outputs": [
        {
          "output_type": "stream",
          "name": "stderr",
          "text": [
            "<ipython-input-145-acaceb164427>:4: FutureWarning: \n",
            "\n",
            "`shade` is now deprecated in favor of `fill`; setting `fill=True`.\n",
            "This will become an error in seaborn v0.14.0; please update your code.\n",
            "\n",
            "  sns.kdeplot(residuals_cart, shade=True)\n"
          ]
        },
        {
          "output_type": "display_data",
          "data": {
            "text/plain": [
              "<Figure size 640x480 with 1 Axes>"
            ],
            "image/png": "[encoded data removed]"
          },
          "metadata": {}
        }
      ]
    },
    {
      "cell_type": "markdown",
      "source": [
        "The residuals are slightly more positive than 0. They are normal and bell shaped."
      ],
      "metadata": {
        "id": "r5ir2BDGqX9V"
      },
      "id": "r5ir2BDGqX9V"
    },
    {
      "cell_type": "markdown",
      "source": [
        "**1.9**\n",
        "\n",
        "Which model --- linear model or classification and regression tree --- has better performance on the test set?"
      ],
      "metadata": {
        "id": "EpfGSs6IlVf_"
      },
      "id": "EpfGSs6IlVf_"
    },
    {
      "cell_type": "markdown",
      "source": [
        "The linear combined model has a better performance on the test sets because it has the highest R^2 value of 0.77 and the lowest RSME."
      ],
      "metadata": {
        "id": "PaDI0z48qyzw"
      },
      "id": "PaDI0z48qyzw"
    },
    {
      "cell_type": "markdown",
      "id": "409519b9-e803-4a95-aded-d6eabf6bc526",
      "metadata": {
        "id": "409519b9-e803-4a95-aded-d6eabf6bc526"
      },
      "source": [
        "**Q3.** This a question purely on categorical prediction. The data for this happen to be gathered in 1987 in Indonesia, and concern contraceptive method choice. The questions and data-gathering assumptions reflect the culture and attitudes of that time and place, but provide a good example of a categorical prediction problem on an important topic (family planning and maternal health The variables in the data are:\n",
        "\n",
        "    - Wife's age (numerical)\n",
        "    - Wife's education (categorical) 1=low, 2, 3, 4=high\n",
        "    - Husband's education (categorical) 1=low, 2, 3, 4=high\n",
        "    - Number of children ever born (numerical)\n",
        "    - Wife's religion (binary) 0=Non-Islam, 1=Islam\n",
        "    - Wife's now working? (binary) 0=Yes, 1=No\n",
        "    - Husband's occupation (categorical) 1, 2, 3, 4\n",
        "    - Standard-of-living index (categorical) 1=low, 2, 3, 4=high\n",
        "    - Media exposure (binary) 0=Good, 1=Not good\n",
        "    - Contraceptive method used (class attribute) 1=No-use, 2=Long-term, 3=Short-termhort-term\n",
        "\n",
        "  1. Load the `contraceptiveMethodChoice.csv` data. Tabulate the `method` variable (i.e. `.value_counts()`). 1 corresponds to `No Contraception`, 3 corresponds to `Short Term` (e.g. condoms, birth control pills), and 2 corresponds to `Long Term` (e.g. IUD, sterilization). Cross tabulate `method` and `numberChildren`. Do couples that use birth control tend to have more children than those who don't?\n",
        "  2. Split the sample into ~80% training data and ~20% testing data.\n",
        "  3. We are now going to make a mistake. Train a regression tree to predict the contraceptive method using the other variables in the data, not a classification tree. Look at the terminal nodes in the tree: What values do they take? Does that make sense? Explain clearly what has gone wrong here.\n",
        "  4. Instead of regression, use a classification tree to predict contraceptive method using the other variables in the data. How does it look different from the previous tree? What variables does the algorithm use? In broad terms, which groups of people are most likely to use each method of contraception?\n",
        "  5. Compute a confusion matrix for your classification tree on the test set (Hint: There are now three categories instead of two, so the cross tabulation will be a $3 \\times 3$ matrix instead of $2 \\times 2$.). Compute the Accuracy of your model overall, and the Accuracy for predicting each contraceptive method.\n",
        "  7. Why can't you use a linear probability model to do this exercise? Explain clearly in words."
      ]
    },
    {
      "cell_type": "markdown",
      "source": [
        "**3.1**\n",
        "\n",
        "Load the contraceptiveMethodChoice.csv data. Tabulate the method variable (i.e. .value_counts()). 1 corresponds to No Contraception, 3 corresponds to Short Term (e.g. condoms, birth control pills), and 2 corresponds to Long Term (e.g. IUD, sterilization). Cross tabulate method and numberChildren. Do couples that use birth control tend to have more children than those who don't?"
      ],
      "metadata": {
        "id": "0kR9Le3OrJSZ"
      },
      "id": "0kR9Le3OrJSZ"
    },
    {
      "cell_type": "code",
      "source": [
        "import pandas as pd\n",
        "from sklearn.model_selection import train_test_split\n",
        "from sklearn.tree import DecisionTreeClassifier\n",
        "from sklearn.metrics import confusion_matrix, accuracy_score\n",
        "from sklearn.tree import export_text\n",
        "\n",
        "# Load the data\n",
        "\n",
        "contraceptive_data = pd.read_csv('./assignment4/data/contraception_hw.csv')\n",
        "\n",
        "# Part 1: Tabulate the method variable\n",
        "method_counts = contraceptive_data['method'].value_counts()\n",
        "print(\"Method Variable Counts:\")\n",
        "print(method_counts)\n",
        "\n",
        "# Part 2: Cross-tabulate method and numberChildren\n",
        "cross_tab = pd.crosstab(contraceptive_data['method'], contraceptive_data['numberChildren'])\n",
        "print(\"\\nCross Tabulation of method and numberChildren:\")\n",
        "print(cross_tab)"
      ],
      "metadata": {
        "id": "CzBZbQ6Fhnaf",
        "outputId": "608af977-53e7-470a-b9d2-ca993b63db83",
        "colab": {
          "base_uri": "https://localhost:8080/"
        }
      },
      "id": "CzBZbQ6Fhnaf",
      "execution_count": 154,
      "outputs": [
        {
          "output_type": "stream",
          "name": "stdout",
          "text": [
            "Method Variable Counts:\n",
            "1    629\n",
            "3    511\n",
            "2    333\n",
            "Name: method, dtype: int64\n",
            "\n",
            "Cross Tabulation of method and numberChildren:\n",
            "numberChildren  0    1    2    3   4   5   6   7   8   9   10  11  12  13  16\n",
            "method                                                                       \n",
            "1               95  143  114   70  57  44  35  18  29   5   9   6   4   0   0\n",
            "2                0   46   56   70  62  36  27  19   9   3   2   2   0   1   0\n",
            "3                2   87  106  119  78  55  30  12   9   8   0   3   0   1   1\n"
          ]
        }
      ]
    },
    {
      "cell_type": "markdown",
      "source": [
        "1 = No Contraception\n",
        "\n",
        "3 = Short Term (e.g. condoms, birth control pills)\n",
        "\n",
        "2 = Long Term (e.g. IUD, sterilization).\n",
        "\n",
        "A 1 indicates no contraception usage, a 2 represents long term use of contraception methods, and a 3 represents short term contraceptive usage. According to our cross tabulation, we can see that long term contraceptives like IUDs or sterilization are not very common. For couples that have 0-2 kids, they do not tend to use contraception. For couples that have 3-5 kids, they use short term contraceptives like condoms. For couples that have more than 6 kids, majority of the time, these couples do not use contraceptives. Although these tendencieis do not confirm that couples who use birth control normally have more children than couples who do not. Although we hypothesize this based off of our cross tabulation, we will not be sure until we run tests"
      ],
      "metadata": {
        "id": "qWGBBfSirdJp"
      },
      "id": "qWGBBfSirdJp"
    },
    {
      "cell_type": "markdown",
      "source": [
        "**3.2**\n",
        "\n",
        "Split the sample into ~80% training data and ~20% testing data."
      ],
      "metadata": {
        "id": "NIpJ-RcfsPh2"
      },
      "id": "NIpJ-RcfsPh2"
    },
    {
      "cell_type": "code",
      "source": [
        "\n",
        "# Split the sample into ~80% training data and ~20% testing data\n",
        "X = contraceptive_data.drop('method', axis=1)\n",
        "y = contraceptive_data['method']\n",
        "X_train, X_test, y_train, y_test = train_test_split(X, y, test_size=0.2, random_state=42)"
      ],
      "metadata": {
        "id": "RxUEOWCurae0"
      },
      "id": "RxUEOWCurae0",
      "execution_count": 155,
      "outputs": []
    },
    {
      "cell_type": "markdown",
      "source": [
        "**3.3**\n",
        "\n",
        "We are now going to make a mistake. Train a regression tree to predict the contraceptive method using the other variables in the data, not a classification tree. Look at the terminal nodes in the tree: What values do they take? Does that make sense? Explain clearly what has gone wrong here."
      ],
      "metadata": {
        "id": "slNvoJT5sjOu"
      },
      "id": "slNvoJT5sjOu"
    },
    {
      "cell_type": "code",
      "source": [
        "# Part 4: Train a regression tree (mistakenly)\n",
        "\n",
        "from sklearn.tree import DecisionTreeRegressor\n",
        "from sklearn.model_selection import train_test_split\n",
        "from sklearn.metrics import mean_squared_error\n",
        "\n",
        "from sklearn.tree import DecisionTreeClassifier, plot_tree\n",
        "from sklearn.metrics import accuracy_score, precision_score, recall_score, f1_score\n",
        "\n",
        "## Decision Trees sample code:\n",
        "from sklearn import tree\n",
        "\n",
        "model = tree.DecisionTreeRegressor(max_depth=10) # Fit the classifier\n",
        "contraception = model.fit(X_train, y_train)\n",
        "tree.plot_tree(contraception,filled=True)\n",
        "plt.show()\n",
        "\n",
        "## Make Predictions on the Test Set\n",
        "y_hat_cont = contraception.predict(X_test)\n",
        "residuals_cont = y_test - y_hat_cont\n",
        "\n",
        "## Residual plot:\n",
        "sns.kdeplot(residuals_cont)\n",
        "plt.show()\n",
        "\n",
        "## True versus predicted plot:\n",
        "plt.scatter(x=y_hat_cont,y=y_test)\n",
        "plt.title('Predicted vs. Actual Values')\n",
        "plt.show()\n",
        "\n",
        "\n",
        "## Metrics:\n",
        "SSE_cont = np.sum( (y_test-y_hat_cont)**2 )\n",
        "MSE_cont = (1/No_test)*np.sum( (y_test-y_hat_cart)**2 )\n",
        "RMSE_cont = (SSE_cont/No_test)**(1/2)\n",
        "R2_cont = 1 - SSE_cont/TSS"
      ],
      "metadata": {
        "id": "1ahRSpGEivSK",
        "outputId": "ea1122f2-eaf5-44e0-a3a2-64dc4d62a446",
        "colab": {
          "base_uri": "https://localhost:8080/",
          "height": 1000
        }
      },
      "id": "1ahRSpGEivSK",
      "execution_count": 156,
      "outputs": [
        {
          "output_type": "display_data",
          "data": {
            "text/plain": [
              "<Figure size 640x480 with 1 Axes>"
            ],
            "image/png": "[encoded data removed]"
          },
          "metadata": {}
        },
        {
          "output_type": "display_data",
          "data": {
            "text/plain": [
              "<Figure size 640x480 with 1 Axes>"
            ],
            "image/png": "[encoded data removed]"
          },
          "metadata": {}
        },
        {
          "output_type": "display_data",
          "data": {
            "text/plain": [
              "<Figure size 640x480 with 1 Axes>"
            ],
            "image/png": "[encoded data removed]"
          },
          "metadata": {}
        }
      ]
    },
    {
      "cell_type": "code",
      "source": [
        "print('R2:',R2_cont)\n",
        "print('MSE', MSE_cont)"
      ],
      "metadata": {
        "id": "ZUljpKCitzIg",
        "outputId": "478391ed-224c-4216-c12b-326c7d8d8f12",
        "colab": {
          "base_uri": "https://localhost:8080/"
        }
      },
      "id": "ZUljpKCitzIg",
      "execution_count": 158,
      "outputs": [
        {
          "output_type": "stream",
          "name": "stdout",
          "text": [
            "R2: -6.339659516389443\n",
            "MSE 0.005291005291005291\n"
          ]
        }
      ]
    },
    {
      "cell_type": "markdown",
      "source": [
        "Train a regression tree (mistakenly):\n",
        "\n",
        "The regression tree has terminal nodes with values like [1.00], [2.00], and [3.00]. This is a mistake as the dependent variable (method) is categorical, and regression trees are not suitable for categorical outcomes."
      ],
      "metadata": {
        "id": "pwqZtZgeix2f"
      },
      "id": "pwqZtZgeix2f"
    },
    {
      "cell_type": "markdown",
      "source": [
        "**3.4 **\n",
        "\n",
        "Instead of regression, use a classification tree to predict contraceptive method using the other variables in the data. How does it look different from the previous tree? What variables does the algorithm use? In broad terms, which groups of people are most likely to use each method of contraception?"
      ],
      "metadata": {
        "id": "iy5Rwz9LuGdL"
      },
      "id": "iy5Rwz9LuGdL"
    },
    {
      "cell_type": "code",
      "source": [
        "# Train a classification tree\n",
        "classification_tree = DecisionTreeClassifier()\n",
        "classification_tree.fit(X_train, y_train)\n",
        "# Display the tree\n",
        "tree_rules_classification = export_text(classification_tree, feature_names=list(X.columns))\n",
        "print(\"\\nClassification Tree Rules:\")\n",
        "print(tree_rules_classification)"
      ],
      "metadata": {
        "id": "JzJMsLdji5ZQ",
        "outputId": "05b19eda-2268-47c7-84a3-9957c4a4238b",
        "colab": {
          "base_uri": "https://localhost:8080/"
        }
      },
      "id": "JzJMsLdji5ZQ",
      "execution_count": 159,
      "outputs": [
        {
          "output_type": "stream",
          "name": "stdout",
          "text": [
            "\n",
            "Classification Tree Rules:\n",
            "|--- Unnamed: 0 <= 416.50\n",
            "|   |--- class: 1\n",
            "|--- Unnamed: 0 >  416.50\n",
            "|   |--- Unnamed: 0 <= 642.50\n",
            "|   |   |--- class: 2\n",
            "|   |--- Unnamed: 0 >  642.50\n",
            "|   |   |--- Unnamed: 0 <= 1000.50\n",
            "|   |   |   |--- class: 3\n",
            "|   |   |--- Unnamed: 0 >  1000.50\n",
            "|   |   |   |--- Unnamed: 0 <= 1214.50\n",
            "|   |   |   |   |--- class: 1\n",
            "|   |   |   |--- Unnamed: 0 >  1214.50\n",
            "|   |   |   |   |--- Unnamed: 0 <= 1320.50\n",
            "|   |   |   |   |   |--- class: 2\n",
            "|   |   |   |   |--- Unnamed: 0 >  1320.50\n",
            "|   |   |   |   |   |--- class: 3\n",
            "\n"
          ]
        }
      ]
    },
    {
      "cell_type": "code",
      "source": [
        "def func(y_test,y_hat): # Sample code to compute classifier performance\n",
        "    tab = pd.crosstab(np.array(y_hat),np.array(y_test)) # Compute confusion matrix\n",
        "    #\n",
        "    # Get entries from the confusion matrix:\n",
        "    tp = tab.iloc[0,0]\n",
        "    tn = tab.iloc[1,1]\n",
        "    fp = tab.iloc[0,1]\n",
        "    fn = tab.iloc[1,0]\n",
        "    tot = tp+tn+fp+fn\n",
        "    #\n",
        "    # Compute performance statistics:\n",
        "    acc = (tp+tn)/tot\n",
        "    spec = tn/(tp+fn)\n",
        "    sens = tp/(tp+fn)\n",
        "    mcc = (tp*tn-fp*fn)/np.sqrt((tp+fp)*(tp+fn)*(tn+fp)*(tn+fn))\n",
        "    #\n",
        "    # Return a dictionary including the confusion matrix and metrics:\n",
        "    return({'confusion_matrix':tab,\n",
        "            'accuracy':acc,\n",
        "            'specificity':spec,\n",
        "            'sensitivity':sens,\n",
        "            'mcc':mcc})"
      ],
      "metadata": {
        "id": "W_avU6RYuhB8"
      },
      "id": "W_avU6RYuhB8",
      "execution_count": 161,
      "outputs": []
    },
    {
      "cell_type": "code",
      "source": [
        "## Decision Trees sample code:\n",
        "from sklearn import tree\n",
        "\n",
        "model = tree.DecisionTreeClassifier(max_depth=10) # Fit the classifier\n",
        "cont = model.fit(X_train, y_train)\n",
        "tree.plot_tree(cont,filled=True)\n",
        "\n",
        "## Make Predictions on the Test Set\n",
        "y_hat_cont = cont.predict(X_test)\n",
        "\n",
        "# Compute performance:\n",
        "func_cont = func(y_test,y_hat_cont)\n",
        "print(func_cont)"
      ],
      "metadata": {
        "id": "kbs2ijoCufBh",
        "outputId": "9042c9bb-1a9b-4781-cfd4-5ccd1993767e",
        "colab": {
          "base_uri": "https://localhost:8080/",
          "height": 515
        }
      },
      "id": "kbs2ijoCufBh",
      "execution_count": 163,
      "outputs": [
        {
          "output_type": "stream",
          "name": "stdout",
          "text": [
            "{'confusion_matrix': col_0    1   2   3\n",
            "row_0             \n",
            "1      130   1   0\n",
            "2        0  70   0\n",
            "3        0   0  94, 'accuracy': 0.9950248756218906, 'specificity': 0.5384615384615384, 'sensitivity': 1.0, 'mcc': 0.9891356936701962}\n"
          ]
        },
        {
          "output_type": "display_data",
          "data": {
            "text/plain": [
              "<Figure size 640x480 with 1 Axes>"
            ],
            "image/png": "[encoded data removed]"
          },
          "metadata": {}
        }
      ]
    },
    {
      "cell_type": "markdown",
      "source": [
        "Use a classification tree:\n",
        "\n",
        "The classification tree correctly uses classes like class: 1, class: 2, and class: 3. It considers the variables Unnamed: 0 and uses different splits to classify the data into contraceptive methods."
      ],
      "metadata": {
        "id": "h2qfeMPTi9e-"
      },
      "id": "h2qfeMPTi9e-"
    },
    {
      "cell_type": "code",
      "source": [
        "print('R2:',R2_cart)\n",
        "print('MSE', MSE_cart)"
      ],
      "metadata": {
        "id": "Pld04ITuu5J7",
        "outputId": "d78355b4-915f-48d8-f176-750575c6bd55",
        "colab": {
          "base_uri": "https://localhost:8080/"
        }
      },
      "id": "Pld04ITuu5J7",
      "execution_count": 164,
      "outputs": [
        {
          "output_type": "stream",
          "name": "stdout",
          "text": [
            "R2: 0.7157129491560987\n",
            "MSE 0.00020493652148585037\n"
          ]
        }
      ]
    },
    {
      "cell_type": "markdown",
      "source": [
        "**3.5**\n",
        "\n",
        "Compute a confusion matrix for your classification tree on the test set (Hint: There are now three categories instead of two, so the cross tabulation will be a 3×3 matrix instead of 2×2 .). Compute the Accuracy of your model overall, and the Accuracy for predicting each contraceptive method."
      ],
      "metadata": {
        "id": "3q9pVHv6uz6v"
      },
      "id": "3q9pVHv6uz6v"
    },
    {
      "cell_type": "code",
      "source": [
        "# Part 6: Compute confusion matrix and accuracy\n",
        "y_pred_classification = classification_tree.predict(X_test)\n",
        "conf_matrix = confusion_matrix(y_test, y_pred_classification)\n",
        "accuracy = accuracy_score(y_test, y_pred_classification)\n",
        "\n",
        "print(\"\\nConfusion Matrix:\")\n",
        "print(conf_matrix)\n",
        "print(\"\\nAccuracy:\", accuracy)"
      ],
      "metadata": {
        "id": "Iek4XMZWjEKm",
        "outputId": "201247db-379d-4205-bc8f-e5c4aa17698b",
        "colab": {
          "base_uri": "https://localhost:8080/"
        }
      },
      "id": "Iek4XMZWjEKm",
      "execution_count": null,
      "outputs": [
        {
          "output_type": "stream",
          "name": "stdout",
          "text": [
            "\n",
            "Confusion Matrix:\n",
            "[[130   0   0]\n",
            " [  1  70   0]\n",
            " [  0   0  94]]\n",
            "\n",
            "Accuracy: 0.9966101694915255\n"
          ]
        }
      ]
    },
    {
      "cell_type": "markdown",
      "source": [
        "The accuracy is pretty high for our model. It only misclassified someone once (classified them as a 2 but they were actually a 1). We can conclude that our model had an accuracy of 99%."
      ],
      "metadata": {
        "id": "-qORJjSLvHkE"
      },
      "id": "-qORJjSLvHkE"
    },
    {
      "cell_type": "markdown",
      "source": [
        "**3.6**\n",
        "\n",
        "Why can't you use a linear probability model to do this exercise?\n"
      ],
      "metadata": {
        "id": "MKy7B5e_vUod"
      },
      "id": "MKy7B5e_vUod"
    },
    {
      "cell_type": "markdown",
      "source": [
        "\n",
        "Linear probability models can predict probabilities, but they may produce values outside the [0, 1] range, violating the probability interpretation. This can lead to issues like heteroscedasticity and non-constant variance. Additionally, linear models may not handle the categorical nature of the outcome well, and predictions might not be bounded between 0 and 1."
      ],
      "metadata": {
        "id": "rMg9TRRNjR4d"
      },
      "id": "rMg9TRRNjR4d"
    }
  ],
  "metadata": {
    "kernelspec": {
      "display_name": "Python 3 (ipykernel)",
      "language": "python",
      "name": "python3"
    },
    "language_info": {
      "codemirror_mode": {
        "name": "ipython",
        "version": 3
      },
      "file_extension": ".py",
      "mimetype": "text/x-python",
      "name": "python",
      "nbconvert_exporter": "python",
      "pygments_lexer": "ipython3",
      "version": "3.11.4"
    },
    "colab": {
      "provenance": []
    }
  },
  "nbformat": 4,
  "nbformat_minor": 5
}